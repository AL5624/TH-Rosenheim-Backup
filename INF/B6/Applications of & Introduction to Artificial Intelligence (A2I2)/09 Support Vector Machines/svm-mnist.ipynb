{
  "cells": [
    {
      "metadata": {
        "trusted": true
      },
      "cell_type": "code",
      "source": "# uncomment if used as Azure-Notebook (update of scikit-learn)\n!pip install scikit-learn -U\nimport numpy as np\nimport sklearn\n\nfrom sklearn import svm, metrics\nfrom sklearn.datasets import fetch_openml\nfrom sklearn.model_selection import train_test_split\n\nfrom scipy import fftpack\n\ndef compute_dct_features_2d(image, no_coeff=10):\n    \"\"\"\n    compute 2D-DCT features of a given image (Type-II DCT).\n    :param image: 2D input image in 'C' format\n    :param no_coeff: number of desired DCT coefficients (zig-zag-scan)\n    :return: DCT features\n    \"\"\"\n    # 1D-DCT along columns\n    dctImg = fftpack.dct(image,type=2,axis=1,norm='ortho')\n    # 1D-DCT along (already transformed) rows\n    dctImg = fftpack.dct(dctImg,type=2,axis=0,norm='ortho')\n\n    # zig-zag-scan in resultuing transformed image\n    features = np.concatenate([np.diagonal(dctImg[::-1, :], k)[::(2 * (k % 2) - 1)] for k in range(1 - dctImg.shape[0], dctImg.shape[0])])\n    # extract first no_coeff coefficients\n    features = features[0:no_coeff]\n\n    return features\n\n\nprint('The scikit-learn version is {}.'.format(sklearn.__version__))\n\n# set to desired amount of training samples for faster training (max. 60000 available)\nnoTrainSamples = 2000\n\n# set True for DCT features\nuseDCT = False\n# number of DCT coefficients to use as features\nnoDCTCoeffs = 50\n\nprint('Loading MNIST...')\nX, y = fetch_openml('mnist_784', version=1, return_X_y=True)\ny = y.astype(np.uint8)\nprint('...finished')\nprint('Size of MNIST data: ', X.shape)\n\nif useDCT == True:\n    print('Computing DCT, using first', noDCTCoeffs, ' coefficients...')\n    print('Not implemented yet!')\n    exit(0)\n    # todo:\n    # reshape each input image to 2D (size 28x28)\n    # compute first \"noDCTCoeffs\" DCT coefficients\n    # store result in list\n    # at the end, X should contain one vector of DCT-coefficients per image (shape: 70000, noDCTCoeffs)\nelse:\n    X = X.reshape((X.shape[0], -1))\n\nprint('Size of data set: ', X.shape)\n\nprint('Starting Training...')\nX_train, X_test, y_train, y_test = train_test_split(\n    X, y, train_size=noTrainSamples, test_size=10000)\n\nclassifier = svm.SVC(kernel='linear', C=1.0, gamma='scale')\nclassifier.fit(X_train, y_train)\nprint('...finished')\n\n\nprint('Evaluation on test set...')\npredicted = classifier.predict(X_test)\n\nprint(\"Classification report for classifier %s:\\n%s\\n\"\n      % (classifier, metrics.classification_report(y_test, predicted)))\ndisp = metrics.plot_confusion_matrix(classifier, X_test, y_test)\ndisp.figure_.suptitle(\"Confusion Matrix\")\nprint(\"Confusion matrix:\\n%s\" % disp.confusion_matrix)\n",
      "execution_count": 1,
      "outputs": [
        {
          "output_type": "stream",
          "text": "Collecting scikit-learn\n\u001b[?25l  Downloading https://files.pythonhosted.org/packages/d9/3a/eb8d7bbe28f4787d140bb9df685b7d5bf6115c0e2a969def4027144e98b6/scikit_learn-0.23.1-cp36-cp36m-manylinux1_x86_64.whl (6.8MB)\n\u001b[K     |████████████████████████████████| 6.9MB 10kB/s  eta 0:00:01     |███████████████████████▉        | 5.1MB 370kB/s eta 0:00:05     |██████████████████████████▉     | 5.8MB 767kB/s eta 0:00:02\n\u001b[?25hRequirement already satisfied, skipping upgrade: scipy>=0.19.1 in /home/nbuser/anaconda3_501/lib/python3.6/site-packages (from scikit-learn) (1.1.0)\nRequirement already satisfied, skipping upgrade: numpy>=1.13.3 in /home/nbuser/anaconda3_501/lib/python3.6/site-packages (from scikit-learn) (1.16.2)\nCollecting threadpoolctl>=2.0.0\n  Downloading https://files.pythonhosted.org/packages/f7/12/ec3f2e203afa394a149911729357aa48affc59c20e2c1c8297a60f33f133/threadpoolctl-2.1.0-py3-none-any.whl\nRequirement already satisfied, skipping upgrade: joblib>=0.11 in /home/nbuser/anaconda3_501/lib/python3.6/site-packages (from scikit-learn) (0.14.0)\n\u001b[31mERROR: azureml-train-automl 1.0.72 has requirement onnxmltools==1.4.1, but you'll have onnxmltools 1.6.0 which is incompatible.\u001b[0m\n\u001b[31mERROR: azureml-train-automl 1.0.72 has requirement scikit-learn<=0.20.3,>=0.19.0, but you'll have scikit-learn 0.23.1 which is incompatible.\u001b[0m\n\u001b[31mERROR: azureml-automl-core 1.0.72.1 has requirement onnxmltools==1.4.1, but you'll have onnxmltools 1.6.0 which is incompatible.\u001b[0m\n\u001b[31mERROR: azureml-automl-core 1.0.72.1 has requirement scikit-learn<=0.20.3,>=0.19.0, but you'll have scikit-learn 0.23.1 which is incompatible.\u001b[0m\nInstalling collected packages: threadpoolctl, scikit-learn\n  Found existing installation: scikit-learn 0.20.3\n    Uninstalling scikit-learn-0.20.3:\n      Successfully uninstalled scikit-learn-0.20.3\nSuccessfully installed scikit-learn-0.23.1 threadpoolctl-2.1.0\n\u001b[33mWARNING: You are using pip version 19.3.1; however, version 20.1.1 is available.\nYou should consider upgrading via the 'pip install --upgrade pip' command.\u001b[0m\nThe scikit-learn version is 0.23.1.\nLoading MNIST...\n...finished\nSize of MNIST data:  (70000, 784)\nSize of data set:  (70000, 784)\nStarting Training...\n...finished\nEvaluation on test set...\nClassification report for classifier SVC(kernel='linear'):\n              precision    recall  f1-score   support\n\n           0       0.92      0.96      0.94       953\n           1       0.93      0.98      0.96      1114\n           2       0.84      0.89      0.86      1001\n           3       0.85      0.88      0.86      1009\n           4       0.86      0.93      0.89      1020\n           5       0.87      0.79      0.83       908\n           6       0.94      0.93      0.93       979\n           7       0.93      0.90      0.91      1089\n           8       0.91      0.82      0.86       994\n           9       0.87      0.84      0.86       933\n\n    accuracy                           0.89     10000\n   macro avg       0.89      0.89      0.89     10000\nweighted avg       0.89      0.89      0.89     10000\n\n\n",
          "name": "stdout"
        },
        {
          "output_type": "stream",
          "text": "/home/nbuser/anaconda3_501/lib/python3.6/site-packages/matplotlib/font_manager.py:229: UserWarning: Matplotlib is building the font cache using fc-list. This may take a moment.\n  'Matplotlib is building the font cache using fc-list. '\n",
          "name": "stderr"
        },
        {
          "output_type": "stream",
          "text": "Confusion matrix:\n[[ 918    0    7    2    3    9    6    2    6    0]\n [   0 1091   10    2    2    1    0    0    5    3]\n [  16   11  886   23   22    8   10   12   11    2]\n [   9   10   36  884    0   30    7    8   15   10]\n [   3    0   16    0  951    2    6    2    2   38]\n [  24   10   14   55   11  717   21    4   30   22]\n [  10    8   21    0   12   19  907    0    2    0]\n [   5    9   31    9   29    1    0  976    3   26]\n [  12   26   17   51   14   29    9    8  811   17]\n [   5    5   12   11   63    4    0   36   10  787]]\n",
          "name": "stdout"
        }
      ]
    },
    {
      "metadata": {
        "trusted": true
      },
      "cell_type": "code",
      "source": "",
      "execution_count": null,
      "outputs": []
    }
  ],
  "metadata": {
    "kernelspec": {
      "name": "python36",
      "display_name": "Python 3.6",
      "language": "python"
    },
    "language_info": {
      "mimetype": "text/x-python",
      "nbconvert_exporter": "python",
      "name": "python",
      "pygments_lexer": "ipython3",
      "version": "3.6.6",
      "file_extension": ".py",
      "codemirror_mode": {
        "version": 3,
        "name": "ipython"
      }
    }
  },
  "nbformat": 4,
  "nbformat_minor": 2
}