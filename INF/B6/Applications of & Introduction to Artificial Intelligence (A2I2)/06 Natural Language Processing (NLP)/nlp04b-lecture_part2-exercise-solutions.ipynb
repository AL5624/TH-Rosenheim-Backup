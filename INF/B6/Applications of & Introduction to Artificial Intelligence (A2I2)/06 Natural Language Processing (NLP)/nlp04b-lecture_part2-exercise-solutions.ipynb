{
 "cells": [
  {
   "cell_type": "markdown",
   "metadata": {},
   "source": [
    "<img src=\"images/thro.png\" align=\"right\"> \n",
    "# # A2I2 - Natural Language Processing (NLP)\n",
    "\n",
    "## <span style=\"color:red\">Lecture - Part 2: Similarity and Similarity Search</span>\n",
    "\n",
    "## <span style=\"color:red\">Exercise Solution</span>\n",
    "---"
   ]
  },
  {
   "cell_type": "markdown",
   "metadata": {},
   "source": [
    "#### Setup"
   ]
  },
  {
   "cell_type": "code",
   "execution_count": 1,
   "metadata": {},
   "outputs": [],
   "source": [
    "import numpy as np\n",
    "import pandas as pd\n",
    "import nltk\n",
    "from nltk.corpus import webtext\n",
    "from nltk.corpus import stopwords\n",
    "from nltk.stem import WordNetLemmatizer\n",
    "from nltk.corpus import twitter_samples\n",
    "import string\n",
    "from sklearn.feature_extraction.text import TfidfVectorizer, CountVectorizer, TfidfTransformer\n",
    "from sklearn.metrics.pairwise import cosine_similarity\n",
    "import pickle"
   ]
  },
  {
   "cell_type": "code",
   "execution_count": 2,
   "metadata": {},
   "outputs": [
    {
     "name": "stderr",
     "output_type": "stream",
     "text": [
      "[nltk_data] Downloading package webtext to /home/jovyan/nltk_data...\n",
      "[nltk_data]   Package webtext is already up-to-date!\n",
      "[nltk_data] Downloading package punkt to /home/jovyan/nltk_data...\n",
      "[nltk_data]   Package punkt is already up-to-date!\n",
      "[nltk_data] Downloading package stopwords to /home/jovyan/nltk_data...\n",
      "[nltk_data]   Package stopwords is already up-to-date!\n",
      "[nltk_data] Downloading package wordnet to /home/jovyan/nltk_data...\n",
      "[nltk_data]   Package wordnet is already up-to-date!\n",
      "[nltk_data] Downloading package twitter_samples to\n",
      "[nltk_data]     /home/jovyan/nltk_data...\n",
      "[nltk_data]   Package twitter_samples is already up-to-date!\n"
     ]
    },
    {
     "data": {
      "text/plain": [
       "True"
      ]
     },
     "execution_count": 2,
     "metadata": {},
     "output_type": "execute_result"
    }
   ],
   "source": [
    "nltk.download('webtext')\n",
    "nltk.download('punkt')\n",
    "nltk.download('stopwords')\n",
    "nltk.download('wordnet')\n",
    "nltk.download('twitter_samples')"
   ]
  },
  {
   "cell_type": "code",
   "execution_count": 3,
   "metadata": {},
   "outputs": [],
   "source": [
    "# read the preprocessed data\n",
    "with open('tweets_lem.data', 'rb') as filehandle:\n",
    "    tweets_lem = pickle.load(filehandle)\n",
    "    \n",
    "tweets_raw = twitter_samples.strings('tweets.20150430-223406.json')"
   ]
  },
  {
   "cell_type": "markdown",
   "metadata": {},
   "source": [
    "# TF-IDF"
   ]
  },
  {
   "cell_type": "code",
   "execution_count": 4,
   "metadata": {},
   "outputs": [
    {
     "name": "stdout",
     "output_type": "stream",
     "text": [
      "(20000, 19259)\n",
      "['lolz', 'trickle', 'wealth', 'never', 'trickling', 'past', 'wallet', 'greed', 'always', 'win', '$', '$', '$', 'greedy', 'https://t.co/x7deopbs97']\n",
      "           count\n",
      "$              3\n",
      "wallet         1\n",
      "greed          1\n",
      "win            1\n",
      "trickle        1\n",
      "trickling      1\n",
      "wealth         1\n",
      "always         1\n",
      "lolz           1\n",
      "greedy         1\n"
     ]
    }
   ],
   "source": [
    "# compute the word counts for each document\n",
    "cv=CountVectorizer(analyzer=lambda x:x)\n",
    "word_count_vector=cv.fit_transform(tweets_lem)\n",
    "feature_names = cv.get_feature_names()\n",
    "\n",
    "print(word_count_vector.shape)\n",
    "\n",
    "show = 9\n",
    "# get count vector for one of the documents\n",
    "show_doc_vector=word_count_vector[show]\n",
    "\n",
    "# print the count\n",
    "df = pd.DataFrame(show_doc_vector.T.todense(), index=feature_names, columns=[\"count\"])\n",
    "print(tweets_lem[show])\n",
    "print(df.sort_values(by=[\"count\"],ascending=False)[:10])\n"
   ]
  },
  {
   "cell_type": "code",
   "execution_count": 5,
   "metadata": {},
   "outputs": [
    {
     "name": "stdout",
     "output_type": "stream",
     "text": [
      "               idf\n",
      "tory      2.254790\n",
      "miliband  2.332614\n",
      "snp       2.642269\n",
      "ed        2.998096\n",
      "#bbcqt    3.035283\n",
      "labour    3.093590\n",
      "cameron   3.124071\n",
      "farage    3.413008\n",
      "david     3.489567\n",
      "ukip      3.493796\n",
      "                      idf\n",
      "econonomically   10.21039\n",
      "econs            10.21039\n",
      "eden             10.21039\n",
      "edgy             10.21039\n",
      "edit             10.21039\n",
      "editor-in-chief  10.21039\n",
      "editorship       10.21039\n",
      "edm's            10.21039\n",
      "eejits           10.21039\n",
      "󾌡                10.21039\n"
     ]
    }
   ],
   "source": [
    "tfidf_transformer = TfidfTransformer(smooth_idf=True, use_idf=True)\n",
    "tfidf_transformer.fit(word_count_vector)\n",
    "\n",
    "# print the lowest and highest idf values\n",
    "df_idf = pd.DataFrame(tfidf_transformer.idf_, index=cv.get_feature_names(), columns=[\"idf\"])\n",
    "print(df_idf.sort_values(by=['idf'])[:10])\n",
    "print(df_idf.sort_values(by=['idf'])[-10:])"
   ]
  },
  {
   "cell_type": "code",
   "execution_count": 6,
   "metadata": {},
   "outputs": [],
   "source": [
    "# note that many of the very frequent words have low idf values, i.e. they appear in many\n",
    "# reviews"
   ]
  },
  {
   "cell_type": "code",
   "execution_count": 7,
   "metadata": {},
   "outputs": [
    {
     "name": "stdout",
     "output_type": "stream",
     "text": [
      "['@kirkkus', 'indirect', 'cost', 'uk', 'eu', 'estimated', 'costing', 'britain', '£', '170', 'billion', 'per', 'year', '#betteroffout', '#ukip']\n",
      "                            tfidf\n",
      "170                      0.340148\n",
      "indirect                 0.340148\n",
      "estimated                0.340148\n",
      "costing                  0.326640\n",
      "#betteroffout            0.317057\n",
      "@kirkkus                 0.298414\n",
      "per                      0.270874\n",
      "billion                  0.252231\n",
      "cost                     0.229740\n",
      "britain                  0.188092\n",
      "£                        0.187235\n",
      "eu                       0.172456\n",
      "year                     0.160769\n",
      "uk                       0.155351\n",
      "#ukip                    0.129221\n",
      "https://t.co/dmhq9thfs1  0.000000\n",
      "https://t.co/dkj7keqtvx  0.000000\n",
      "https://t.co/dnob4nyi0o  0.000000\n",
      "https://t.co/dk9nyyr3qi  0.000000\n",
      "#                        0.000000\n"
     ]
    }
   ],
   "source": [
    "# tf-idf scores\n",
    "tf_idf_vector=tfidf_transformer.transform(word_count_vector)\n",
    "\n",
    "show = 0\n",
    "# get tfidf vector for first document\n",
    "show_doc_vector=tf_idf_vector[show]\n",
    "\n",
    "#print the scores\n",
    "df = pd.DataFrame(show_doc_vector.T.todense(), index=feature_names, columns=[\"tfidf\"])\n",
    "print(tweets_lem[show])\n",
    "print(df.sort_values(by=[\"tfidf\"],ascending=False)[:20])"
   ]
  },
  {
   "cell_type": "markdown",
   "metadata": {},
   "source": [
    "# Compute similar tweets"
   ]
  },
  {
   "cell_type": "code",
   "execution_count": 8,
   "metadata": {},
   "outputs": [],
   "source": [
    "similarities = cosine_similarity(tf_idf_vector)"
   ]
  },
  {
   "cell_type": "code",
   "execution_count": 9,
   "metadata": {},
   "outputs": [
    {
     "data": {
      "text/html": [
       "<div>\n",
       "<style scoped>\n",
       "    .dataframe tbody tr th:only-of-type {\n",
       "        vertical-align: middle;\n",
       "    }\n",
       "\n",
       "    .dataframe tbody tr th {\n",
       "        vertical-align: top;\n",
       "    }\n",
       "\n",
       "    .dataframe thead th {\n",
       "        text-align: right;\n",
       "    }\n",
       "</style>\n",
       "<table border=\"1\" class=\"dataframe\">\n",
       "  <thead>\n",
       "    <tr style=\"text-align: right;\">\n",
       "      <th></th>\n",
       "      <th>similarity</th>\n",
       "      <th>#</th>\n",
       "    </tr>\n",
       "  </thead>\n",
       "  <tbody>\n",
       "    <tr>\n",
       "      <th>SNP leader faces audience questions http://t.co/TYClKltSpW</th>\n",
       "      <td>1.000000</td>\n",
       "      <td>10</td>\n",
       "    </tr>\n",
       "    <tr>\n",
       "      <th>SNP leader faces audience questions</th>\n",
       "      <td>0.696482</td>\n",
       "      <td>9217</td>\n",
       "    </tr>\n",
       "    <tr>\n",
       "      <th>SNP leader faces audience questions</th>\n",
       "      <td>0.696482</td>\n",
       "      <td>12016</td>\n",
       "    </tr>\n",
       "    <tr>\n",
       "      <th>SNP leader faces audience questions http://t.co/1pzgD69P7Q</th>\n",
       "      <td>0.485088</td>\n",
       "      <td>511</td>\n",
       "    </tr>\n",
       "    <tr>\n",
       "      <th>SNP leader faces audience questions http://t.co/HYEsnF4HOF</th>\n",
       "      <td>0.485088</td>\n",
       "      <td>15710</td>\n",
       "    </tr>\n",
       "    <tr>\n",
       "      <th>SNP leader faces audience questions http://t.co/f8rfiubQQ7</th>\n",
       "      <td>0.485088</td>\n",
       "      <td>9189</td>\n",
       "    </tr>\n",
       "    <tr>\n",
       "      <th>SNP leader faces audience questions http://t.co/KBoQ8qX0wV</th>\n",
       "      <td>0.485088</td>\n",
       "      <td>9223</td>\n",
       "    </tr>\n",
       "    <tr>\n",
       "      <th>SNP leader faces audience questions - http://t.co/jcNfuX5QHE</th>\n",
       "      <td>0.485088</td>\n",
       "      <td>3421</td>\n",
       "    </tr>\n",
       "    <tr>\n",
       "      <th>SNP leader faces audience questions http://t.co/5CBmT3j4DY</th>\n",
       "      <td>0.485088</td>\n",
       "      <td>5296</td>\n",
       "    </tr>\n",
       "    <tr>\n",
       "      <th>SNP leader faces audience questions http://t.co/2NmsmSMJLB</th>\n",
       "      <td>0.485088</td>\n",
       "      <td>16508</td>\n",
       "    </tr>\n",
       "    <tr>\n",
       "      <th>SNP leader faces audience questions http://t.co/BFxDb0WSs0</th>\n",
       "      <td>0.485088</td>\n",
       "      <td>498</td>\n",
       "    </tr>\n",
       "    <tr>\n",
       "      <th>SNP leader faces audience questions http://t.co/18nSoZVVZM</th>\n",
       "      <td>0.485088</td>\n",
       "      <td>494</td>\n",
       "    </tr>\n",
       "    <tr>\n",
       "      <th>SNP leader faces audience questions http://t.co/KRvxvyeq8p</th>\n",
       "      <td>0.485088</td>\n",
       "      <td>7719</td>\n",
       "    </tr>\n",
       "    <tr>\n",
       "      <th>SNP leader faces audience questions http://t.co/MNrBe7qYhQ</th>\n",
       "      <td>0.485088</td>\n",
       "      <td>16969</td>\n",
       "    </tr>\n",
       "    <tr>\n",
       "      <th>SNP leader faces audience questions http://t.co/gk6yJ9zXNx</th>\n",
       "      <td>0.485088</td>\n",
       "      <td>67</td>\n",
       "    </tr>\n",
       "    <tr>\n",
       "      <th>SNP leader faces audience questions http://t.co/62T4dzTdFz</th>\n",
       "      <td>0.485088</td>\n",
       "      <td>3763</td>\n",
       "    </tr>\n",
       "    <tr>\n",
       "      <th>SNP leader faces audience questions  #Scotland #BBC http://t.co/R8NmSOnnt2</th>\n",
       "      <td>0.401217</td>\n",
       "      <td>15942</td>\n",
       "    </tr>\n",
       "    <tr>\n",
       "      <th>SNP leader faces audience questions: Nicola Sturgeon tells a live TV audience in Glasgow that the SNP would have 'big influence and b...</th>\n",
       "      <td>0.390866</td>\n",
       "      <td>14186</td>\n",
       "    </tr>\n",
       "    <tr>\n",
       "      <th>SNP leader faces audience questions: Nicola Sturgeon tells a live TV audience in Glasgow that the SNP would have 'big influence and b...</th>\n",
       "      <td>0.390866</td>\n",
       "      <td>12931</td>\n",
       "    </tr>\n",
       "    <tr>\n",
       "      <th>SNP leader faces audience questions: Nicola Sturgeon tells a live TV audience in Glasgow that the SNP would have 'big influence and b...</th>\n",
       "      <td>0.390866</td>\n",
       "      <td>12925</td>\n",
       "    </tr>\n",
       "  </tbody>\n",
       "</table>\n",
       "</div>"
      ],
      "text/plain": [
       "                                                    similarity      #\n",
       "SNP leader faces audience questions http://t.co...    1.000000     10\n",
       "SNP leader faces audience questions                   0.696482   9217\n",
       "SNP leader faces audience questions                   0.696482  12016\n",
       "SNP leader faces audience questions http://t.co...    0.485088    511\n",
       "SNP leader faces audience questions http://t.co...    0.485088  15710\n",
       "SNP leader faces audience questions http://t.co...    0.485088   9189\n",
       "SNP leader faces audience questions http://t.co...    0.485088   9223\n",
       "SNP leader faces audience questions - http://t....    0.485088   3421\n",
       "SNP leader faces audience questions http://t.co...    0.485088   5296\n",
       "SNP leader faces audience questions http://t.co...    0.485088  16508\n",
       "SNP leader faces audience questions http://t.co...    0.485088    498\n",
       "SNP leader faces audience questions http://t.co...    0.485088    494\n",
       "SNP leader faces audience questions http://t.co...    0.485088   7719\n",
       "SNP leader faces audience questions http://t.co...    0.485088  16969\n",
       "SNP leader faces audience questions http://t.co...    0.485088     67\n",
       "SNP leader faces audience questions http://t.co...    0.485088   3763\n",
       "SNP leader faces audience questions  #Scotland ...    0.401217  15942\n",
       "SNP leader faces audience questions: Nicola Stu...    0.390866  14186\n",
       "SNP leader faces audience questions: Nicola Stu...    0.390866  12931\n",
       "SNP leader faces audience questions: Nicola Stu...    0.390866  12925"
      ]
     },
     "execution_count": 9,
     "metadata": {},
     "output_type": "execute_result"
    }
   ],
   "source": [
    "index = 10\n",
    "df = pd.DataFrame(similarities[index], index=tweets_raw, columns=[\"similarity\"])\n",
    "df['#']=np.arange(0, len(df))\n",
    "df.sort_values(by=[\"similarity\"],ascending=False)[:20]"
   ]
  },
  {
   "cell_type": "markdown",
   "metadata": {},
   "source": [
    "# Word2Vec"
   ]
  },
  {
   "cell_type": "code",
   "execution_count": 10,
   "metadata": {},
   "outputs": [],
   "source": [
    "import gensim\n",
    "import gensim.downloader as api"
   ]
  },
  {
   "cell_type": "code",
   "execution_count": 11,
   "metadata": {},
   "outputs": [],
   "source": [
    "# load a pretrained word embedding model - this one has 400.000 words with vectors of\n",
    "# length 50 and has been trained on the wikipedia from 2014 plus the Gigaword 5 dataset\n",
    "# see https://github.com/RaRe-Technologies/gensim-data\n",
    "# and https://catalog.ldc.upenn.edu/LDC2011T07\n",
    "model = api.load(\"glove-wiki-gigaword-50\")"
   ]
  },
  {
   "cell_type": "code",
   "execution_count": 12,
   "metadata": {},
   "outputs": [],
   "source": [
    "# remove all words not in the pre-trained vocabulary\n",
    "tweets_vo = [[t for t in tweet if t in model.vocab] for tweet in tweets_lem]"
   ]
  },
  {
   "cell_type": "code",
   "execution_count": 13,
   "metadata": {},
   "outputs": [
    {
     "data": {
      "text/plain": [
       "146"
      ]
     },
     "execution_count": 13,
     "metadata": {},
     "output_type": "execute_result"
    }
   ],
   "source": [
    "# check if there are \"empty\" tweets now, i.e. tweets without any words\n",
    "len([len(tweet) for tweet in tweets_vo if len(tweet)==0])"
   ]
  },
  {
   "cell_type": "code",
   "execution_count": 14,
   "metadata": {},
   "outputs": [
    {
     "name": "stdout",
     "output_type": "stream",
     "text": [
      "19854\n",
      "19854\n"
     ]
    }
   ],
   "source": [
    "# remove all these empty tweets (from both the word vectors and the original data)\n",
    "notempty = [len(tweet)>0 for tweet in tweets_vo]\n",
    "tweets_fwc = np.array(tweets_vo)[notempty]\n",
    "tweets_raw_fwc = np.array(tweets_raw)[notempty]\n",
    "print(len(tweets_fwc))\n",
    "print(len(tweets_raw_fwc))"
   ]
  },
  {
   "cell_type": "code",
   "execution_count": 15,
   "metadata": {},
   "outputs": [],
   "source": [
    "# compute the document vectors by averaging the word vectors\n",
    "rr_wv = [np.mean([model[w] for w in r if w in model.vocab], axis=0) for r in tweets_fwc]"
   ]
  },
  {
   "cell_type": "code",
   "execution_count": 16,
   "metadata": {},
   "outputs": [],
   "source": [
    "# compute the cosine-similarity matrix\n",
    "sim_dv = cosine_similarity(rr_wv)"
   ]
  },
  {
   "cell_type": "code",
   "execution_count": 17,
   "metadata": {},
   "outputs": [
    {
     "data": {
      "text/html": [
       "<div>\n",
       "<style scoped>\n",
       "    .dataframe tbody tr th:only-of-type {\n",
       "        vertical-align: middle;\n",
       "    }\n",
       "\n",
       "    .dataframe tbody tr th {\n",
       "        vertical-align: top;\n",
       "    }\n",
       "\n",
       "    .dataframe thead th {\n",
       "        text-align: right;\n",
       "    }\n",
       "</style>\n",
       "<table border=\"1\" class=\"dataframe\">\n",
       "  <thead>\n",
       "    <tr style=\"text-align: right;\">\n",
       "      <th></th>\n",
       "      <th>similarity</th>\n",
       "      <th>#</th>\n",
       "    </tr>\n",
       "  </thead>\n",
       "  <tbody>\n",
       "    <tr>\n",
       "      <th>SNP leader faces audience questions http://t.co/MNrBe7qYhQ</th>\n",
       "      <td>1.000000</td>\n",
       "      <td>16859</td>\n",
       "    </tr>\n",
       "    <tr>\n",
       "      <th>SNP leader faces audience questions</th>\n",
       "      <td>1.000000</td>\n",
       "      <td>11945</td>\n",
       "    </tr>\n",
       "    <tr>\n",
       "      <th>SNP leader faces audience questions - http://t.co/jcNfuX5QHE</th>\n",
       "      <td>1.000000</td>\n",
       "      <td>3402</td>\n",
       "    </tr>\n",
       "    <tr>\n",
       "      <th>SNP leader faces audience questions http://t.co/5CBmT3j4DY</th>\n",
       "      <td>1.000000</td>\n",
       "      <td>5270</td>\n",
       "    </tr>\n",
       "    <tr>\n",
       "      <th>SNP leader faces audience questions http://t.co/f8rfiubQQ7</th>\n",
       "      <td>1.000000</td>\n",
       "      <td>9144</td>\n",
       "    </tr>\n",
       "    <tr>\n",
       "      <th>SNP leader faces audience questions http://t.co/gk6yJ9zXNx</th>\n",
       "      <td>1.000000</td>\n",
       "      <td>67</td>\n",
       "    </tr>\n",
       "    <tr>\n",
       "      <th>SNP leader faces audience questions  #Scotland #BBC http://t.co/R8NmSOnnt2</th>\n",
       "      <td>1.000000</td>\n",
       "      <td>15843</td>\n",
       "    </tr>\n",
       "    <tr>\n",
       "      <th>SNP leader faces audience questions http://t.co/TYClKltSpW</th>\n",
       "      <td>1.000000</td>\n",
       "      <td>10</td>\n",
       "    </tr>\n",
       "    <tr>\n",
       "      <th>SNP leader faces audience questions http://t.co/HYEsnF4HOF</th>\n",
       "      <td>1.000000</td>\n",
       "      <td>15613</td>\n",
       "    </tr>\n",
       "    <tr>\n",
       "      <th>SNP leader faces audience questions http://t.co/KBoQ8qX0wV</th>\n",
       "      <td>1.000000</td>\n",
       "      <td>9178</td>\n",
       "    </tr>\n",
       "    <tr>\n",
       "      <th>SNP leader faces audience questions http://t.co/62T4dzTdFz</th>\n",
       "      <td>1.000000</td>\n",
       "      <td>3742</td>\n",
       "    </tr>\n",
       "    <tr>\n",
       "      <th>SNP leader faces audience questions http://t.co/1pzgD69P7Q</th>\n",
       "      <td>1.000000</td>\n",
       "      <td>506</td>\n",
       "    </tr>\n",
       "    <tr>\n",
       "      <th>SNP leader faces audience questions http://t.co/BFxDb0WSs0</th>\n",
       "      <td>1.000000</td>\n",
       "      <td>493</td>\n",
       "    </tr>\n",
       "    <tr>\n",
       "      <th>SNP leader faces audience questions http://t.co/18nSoZVVZM</th>\n",
       "      <td>1.000000</td>\n",
       "      <td>489</td>\n",
       "    </tr>\n",
       "    <tr>\n",
       "      <th>SNP leader faces audience questions http://t.co/KRvxvyeq8p</th>\n",
       "      <td>1.000000</td>\n",
       "      <td>7679</td>\n",
       "    </tr>\n",
       "    <tr>\n",
       "      <th>SNP leader faces audience questions http://t.co/2NmsmSMJLB</th>\n",
       "      <td>1.000000</td>\n",
       "      <td>16403</td>\n",
       "    </tr>\n",
       "    <tr>\n",
       "      <th>SNP leader faces audience questions</th>\n",
       "      <td>1.000000</td>\n",
       "      <td>9172</td>\n",
       "    </tr>\n",
       "    <tr>\n",
       "      <th>why are people so perplexed by this \"no SNP deal\" thing? it's obvious. the SNP have no choice but to support a labour queens speech...</th>\n",
       "      <td>0.935406</td>\n",
       "      <td>7147</td>\n",
       "    </tr>\n",
       "    <tr>\n",
       "      <th>Miliband playing political poker... would presumably dare SNP to vote down a minority Labour Queen's Speech, which they'd surely never do?</th>\n",
       "      <td>0.919480</td>\n",
       "      <td>9129</td>\n",
       "    </tr>\n",
       "    <tr>\n",
       "      <th>http://t.co/z5IONTo6tL SNP leader faces audience questions: Nicola Sturgeon is… http://t.co/3FpsKvo8sd</th>\n",
       "      <td>0.916914</td>\n",
       "      <td>1890</td>\n",
       "    </tr>\n",
       "  </tbody>\n",
       "</table>\n",
       "</div>"
      ],
      "text/plain": [
       "                                                    similarity      #\n",
       "SNP leader faces audience questions http://t.co...    1.000000  16859\n",
       "SNP leader faces audience questions                   1.000000  11945\n",
       "SNP leader faces audience questions - http://t....    1.000000   3402\n",
       "SNP leader faces audience questions http://t.co...    1.000000   5270\n",
       "SNP leader faces audience questions http://t.co...    1.000000   9144\n",
       "SNP leader faces audience questions http://t.co...    1.000000     67\n",
       "SNP leader faces audience questions  #Scotland ...    1.000000  15843\n",
       "SNP leader faces audience questions http://t.co...    1.000000     10\n",
       "SNP leader faces audience questions http://t.co...    1.000000  15613\n",
       "SNP leader faces audience questions http://t.co...    1.000000   9178\n",
       "SNP leader faces audience questions http://t.co...    1.000000   3742\n",
       "SNP leader faces audience questions http://t.co...    1.000000    506\n",
       "SNP leader faces audience questions http://t.co...    1.000000    493\n",
       "SNP leader faces audience questions http://t.co...    1.000000    489\n",
       "SNP leader faces audience questions http://t.co...    1.000000   7679\n",
       "SNP leader faces audience questions http://t.co...    1.000000  16403\n",
       "SNP leader faces audience questions                   1.000000   9172\n",
       "why are people so perplexed by this \"no SNP dea...    0.935406   7147\n",
       "Miliband playing political poker... would presu...    0.919480   9129\n",
       "http://t.co/z5IONTo6tL SNP leader faces audienc...    0.916914   1890"
      ]
     },
     "execution_count": 17,
     "metadata": {},
     "output_type": "execute_result"
    }
   ],
   "source": [
    "# find the most similar tweets for tweet # 10\n",
    "index = 10\n",
    "df = pd.DataFrame(sim_dv[index], index=tweets_raw_fwc, columns=[\"similarity\"])\n",
    "df['#']=np.arange(0, len(df))\n",
    "df.sort_values(by=[\"similarity\"],ascending=False)[:20]"
   ]
  },
  {
   "cell_type": "code",
   "execution_count": 18,
   "metadata": {},
   "outputs": [],
   "source": [
    "# EOF"
   ]
  }
 ],
 "metadata": {
  "kernelspec": {
   "display_name": "Python 3",
   "language": "python",
   "name": "python3"
  },
  "language_info": {
   "codemirror_mode": {
    "name": "ipython",
    "version": 3
   },
   "file_extension": ".py",
   "mimetype": "text/x-python",
   "name": "python",
   "nbconvert_exporter": "python",
   "pygments_lexer": "ipython3",
   "version": "3.7.6"
  }
 },
 "nbformat": 4,
 "nbformat_minor": 1
}
