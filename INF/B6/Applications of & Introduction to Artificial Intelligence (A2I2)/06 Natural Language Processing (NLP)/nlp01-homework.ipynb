{
 "cells": [
  {
   "cell_type": "markdown",
   "metadata": {},
   "source": [
    "<img src=\"images/thro.png\" align=\"right\"> \n",
    "# A2I2 - Natural Language Processing (NLP)\n",
    "\n",
    "## Homework\n",
    "\n",
    "Please work through this notebook and solve the exercises **before** the lecture.\n",
    "\n",
    "***Expected time to complete the notebook: 180min***\n",
    "\n",
    "*-- Markus Breunig*"
   ]
  },
  {
   "cell_type": "markdown",
   "metadata": {},
   "source": [
    "### Introduction to NLP\n",
    "\n",
    "Natural Language Processing (NLP) is a subfield of linguistics, computer science, information engineering, and artificial intelligence concerned with the interactions between computers and human (natural) languages, in particular how to program computers to process and analyze large amounts of natural language data.\n",
    "\n",
    "Challenges in natural language processing frequently involve speech recognition, natural language understanding, and natural language generation.\n",
    "\n",
    "Note: NLP is not to be confused with 'Neuro-linguistic programming', which is also abbreviated as NLP but \"[...]has been discredited as a pseudoscience\" [<a href=\"https://en.wikipedia.org/wiki/Neuro-linguistic_programming\">wikipedia.com</a>].\n",
    "\n",
    "In this homework you will be watching a couple of videos by Dan Jurafsky and Christopher Manning, introducing you to the basic concepts of NLP.\n",
    "\n",
    "**For each video, first watch the whole video, than try to answer the questions (in German or English, your choice). If you cannot answer one of the questions, re-watch the full video and try to answer the question in your own words once again. Do not simply write down the answers WHILE watching the video (doing so has very little learning impact).**"
   ]
  },
  {
   "cell_type": "markdown",
   "metadata": {},
   "source": [
    "# Video 1 - What is Natural Language Processing?\n",
    "\n",
    "Please watch the Video <a href=\"https://www.youtube.com/watch?v=oWsMIW-5xUc\">**Lecture 01 — Course Introduction**</a> and answer the following questions afterwards."
   ]
  },
  {
   "cell_type": "markdown",
   "metadata": {},
   "source": [
    "## <span style=\"color:red\">Questions for Video 1</span>\n",
    "\n",
    "<ol type=\"a\">\n",
    "    <li style=\"color:blue\">Name 3 applications of NLP.</li>\n",
    "Answer: ...\n",
    "    <li style=\"color:blue\">Name 2 applications of NLP that have been mostly solved, 2 where good progress has been made and 2 that are still really hard?</li>  \n",
    "Answer: ...\n",
    "    <li style=\"color:blue\">Explain in your own words what a \"crash blossom\" is.</li>  \n",
    "Answer: ...\n",
    "    <li style=\"color:blue\">Draw the 2 different parse trees (phrase structure tree) for \"teacher strikes idle kids\"?</li>  \n",
    "Answer: ...\n",
    "    <li style=\"color:blue\">Name 4 other issues that make NLP hard but fun.</li>  \n",
    "Answer: ...\n",
    "</ol>"
   ]
  },
  {
   "cell_type": "markdown",
   "metadata": {},
   "source": [
    "# Optional: Videos 2 and 3 - Regular Expressions\n",
    "\n",
    "You should already know what regular expression are and how to use them - however, if you need a refresher, feel free to watch the videos <a href=\"https://www.youtube.com/watch?v=EyzTQ0OKeNw\">**Lecture 02 — Regular Expressions**</a> and <a href=\"https://www.youtube.com/watch?v=sUNEGBuRWzU\">**Lecture 03 — Regular Expressions in Practical NLP**</a>."
   ]
  },
  {
   "cell_type": "markdown",
   "metadata": {},
   "source": [
    "# Video 4 - Word Tokenization?\n",
    "\n",
    "Please watch the Video <a href=\"https://www.youtube.com/watch?v=pEwBjcYdcKw\">**Lecture 04 — Word Tokenization**</a> and answer the following questions afterwards."
   ]
  },
  {
   "cell_type": "markdown",
   "metadata": {},
   "source": [
    "## <span style=\"color:red\">Questions for Video 4</span>\n",
    "\n",
    "<ol type=\"a\">\n",
    "    <li style=\"color:blue\">Explain the difference between tokens and types.</li>  \n",
    "Answer: ...\n",
    "    <li style=\"color:blue\">What is a corpus (plural corpora)?</li>  \n",
    "Answer: ...\n",
    "    <li style=\"color:blue\">What is the vocabulary?</li>  \n",
    "Answer: ...\n",
    "    <li style=\"color:blue\">How many words are there in the English language?</li>  \n",
    "Answer: ...\n",
    "    <li style=\"color:blue\">What is the most frequently used word by Shakespeare?</li>  \n",
    "Answer: ...\n",
    "    <li style=\"color:blue\">Name 4 issues you run into when tokenizing a text.</li>  \n",
    "Answer: ...\n",
    "    <li style=\"color:blue\">What is a specific problem in tokenizing German text?</li>  \n",
    "Answer: ...\n",
    "</ol>"
   ]
  },
  {
   "cell_type": "markdown",
   "metadata": {},
   "source": [
    "# Video 5 - Word Normalization and Stemming\n",
    "\n",
    "Please watch the Video <a href=\"https://www.youtube.com/watch?v=3_0rQjEgEy8\">**Lecture 05 — Word Normalization and Stemming**</a> and answer the following questions afterwards."
   ]
  },
  {
   "cell_type": "markdown",
   "metadata": {},
   "source": [
    "## <span style=\"color:red\">Questions for Video 5</span>\n",
    "\n",
    "<ol type=\"a\">\n",
    "    <li style=\"color:blue\">What is case folding?</li>  \n",
    "Answer: ...\n",
    "    <li style=\"color:blue\">What is lemmatization?</li>  \n",
    "Answer: ...\n",
    "    <li style=\"color:blue\">What does the Porter Stemming Algorithm do?</li>  \n",
    "Answer: ...\n",
    "</ol>"
   ]
  },
  {
   "cell_type": "markdown",
   "metadata": {},
   "source": [
    "# Video 5a - Lemmatization\n",
    "\n",
    "You have learned about Stemming in the previous video. While Stemming and esp. the Porter Stemmer were very valuable when computing power was more limited, today we prefer more advanced technique to find the \"base\" form of a word: Lemmatization, which was also mentioned in the video.\n",
    "\n",
    "Please watch the Video (from a different source) <a href=\"https://www.youtube.com/watch?v=uoHVztKY6S4\">**Lemmatizing - Natural Language Processing With Python and NLTK p.8**</a> and answer the following questions afterwards."
   ]
  },
  {
   "cell_type": "markdown",
   "metadata": {},
   "source": [
    "## <span style=\"color:red\">Questions for Video 5a</span>\n",
    "\n",
    "<ol type=\"a\">\n",
    "    <li style=\"color:blue\">What is the lemmatized from of \"cats\" ?</li>  \n",
    "Answer: cat\n",
    "    <li style=\"color:blue\">What is the lemmatized from of \"geese\" ?</li>  \n",
    "Answer: goose\n",
    "    <li style=\"color:blue\">What is the lemmatized from of \"better\" ?</li>  \n",
    "Answer: That depends - either \"better\", or, if we know that it is an adjective, \"good\".\n",
    "</ol>"
   ]
  },
  {
   "cell_type": "markdown",
   "metadata": {},
   "source": [
    "# Video 6 - Sentence Segmentation\n",
    "\n",
    "Please watch the Video <a href=\"https://www.youtube.com/watch?v=FFsya-nq2Go\">**Lecture 06 — Sentence Segmentation**</a> and answer the following questions afterwards."
   ]
  },
  {
   "cell_type": "markdown",
   "metadata": {},
   "source": [
    "## <span style=\"color:red\">Questions for Video 6</span>\n",
    "\n",
    "<ol type=\"a\">\n",
    "    <li style=\"color:blue\">What machine learning method is used to decide if a \".\" is the end of a sentence or not?</li>  \n",
    "Answer: ...\n",
    "    <li style=\"color:blue\">Name 4 features than can be used for sentence segmentation?</li>  \n",
    "Answer: ...\n",
    "</ol>"
   ]
  },
  {
   "cell_type": "markdown",
   "metadata": {},
   "source": [
    "# Video 12 - Introduction to N-grams\n",
    "\n",
    "Please watch the Video <a href=\"https://www.youtube.com/watch?v=hB2ShMlwTyc\">**Lecture 12 — Introduction to N-grams**</a> and answer the following questions afterwards."
   ]
  },
  {
   "cell_type": "markdown",
   "metadata": {},
   "source": [
    "## <span style=\"color:red\">Questions for Video 12</span>\n",
    "\n",
    "<ol type=\"a\">\n",
    "    <li style=\"color:blue\">What does a \"language model\" do?</li>  \n",
    "Answer: ...\n",
    "    <li style=\"color:blue\">Which applications are language models used for?</li>  \n",
    "Answer: ...\n",
    "    <li style=\"color:blue\">What is the Markov Assumption and why do we need it?</li>  \n",
    "Answer: ...\n",
    "    <li style=\"color:blue\">What is the unigram model for P(ABCDE) (where A to E are words)?</li>  \n",
    "Answer: ...\n",
    "    <li style=\"color:blue\">What is the bigram model for P(ABCDE)?</li>  \n",
    "Answer: ...\n",
    "    <li style=\"color:blue\">Why are n-gram models insufficient but still used in practice?</li> \n",
    "Answer: ...\n",
    "</ol>"
   ]
  },
  {
   "cell_type": "markdown",
   "metadata": {},
   "source": [
    "# Video 13 - Estimating N-gram Probabilities\n",
    "\n",
    "Please watch the Video <a href=\"https://www.youtube.com/watch?v=MUNFfBGdF1k\">**Lecture 13 — Estimating N-gram Probabilities**</a> and answer the following questions afterwards."
   ]
  },
  {
   "cell_type": "markdown",
   "metadata": {},
   "source": [
    "## <span style=\"color:red\">Questions for Video 13</span>\n",
    "\n",
    "<ol type=\"a\">\n",
    "    <li style=\"color:blue\">How does the Maximum Likelihood Estimate estimate the probability of the bigram P('cat' | 'fat')?</li>  \n",
    "Answer: ...\n",
    "    <li style=\"color:blue\">Why do not store the bi-gram probabilities we compute? what do we do instead?</li>  \n",
    "Answer: ...\n",
    "    <li style=\"color:blue\">What is SLIRM?</li>  \n",
    "Answer: ...\n",
    "</ol>"
   ]
  },
  {
   "cell_type": "code",
   "execution_count": 1,
   "metadata": {},
   "outputs": [],
   "source": [
    "# --- EOF ---"
   ]
  }
 ],
 "metadata": {
  "kernelspec": {
   "display_name": "Python 3",
   "language": "python",
   "name": "python3"
  },
  "language_info": {
   "codemirror_mode": {
    "name": "ipython",
    "version": 3
   },
   "file_extension": ".py",
   "mimetype": "text/x-python",
   "name": "python",
   "nbconvert_exporter": "python",
   "pygments_lexer": "ipython3",
   "version": "3.7.6"
  }
 },
 "nbformat": 4,
 "nbformat_minor": 4
}
