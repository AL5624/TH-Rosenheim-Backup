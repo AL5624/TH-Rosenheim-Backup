{
 "cells": [
  {
   "cell_type": "code",
   "execution_count": 1,
   "metadata": {},
   "outputs": [
    {
     "name": "stdout",
     "output_type": "stream",
     "text": [
      "0.25.1\n"
     ]
    },
    {
     "data": {
      "text/html": [
       "<div>\n",
       "<style scoped>\n",
       "    .dataframe tbody tr th:only-of-type {\n",
       "        vertical-align: middle;\n",
       "    }\n",
       "\n",
       "    .dataframe tbody tr th {\n",
       "        vertical-align: top;\n",
       "    }\n",
       "\n",
       "    .dataframe thead th {\n",
       "        text-align: right;\n",
       "    }\n",
       "</style>\n",
       "<table border=\"1\" class=\"dataframe\">\n",
       "  <thead>\n",
       "    <tr style=\"text-align: right;\">\n",
       "      <th></th>\n",
       "      <th>labels</th>\n",
       "      <th>message</th>\n",
       "    </tr>\n",
       "  </thead>\n",
       "  <tbody>\n",
       "    <tr>\n",
       "      <td>0</td>\n",
       "      <td>ham</td>\n",
       "      <td>Go until jurong point, crazy.. Available only ...</td>\n",
       "    </tr>\n",
       "    <tr>\n",
       "      <td>1</td>\n",
       "      <td>ham</td>\n",
       "      <td>Ok lar... Joking wif u oni...</td>\n",
       "    </tr>\n",
       "    <tr>\n",
       "      <td>2</td>\n",
       "      <td>spam</td>\n",
       "      <td>Free entry in 2 a wkly comp to win FA Cup fina...</td>\n",
       "    </tr>\n",
       "    <tr>\n",
       "      <td>3</td>\n",
       "      <td>ham</td>\n",
       "      <td>U dun say so early hor... U c already then say...</td>\n",
       "    </tr>\n",
       "    <tr>\n",
       "      <td>4</td>\n",
       "      <td>ham</td>\n",
       "      <td>Nah I don't think he goes to usf, he lives aro...</td>\n",
       "    </tr>\n",
       "  </tbody>\n",
       "</table>\n",
       "</div>"
      ],
      "text/plain": [
       "  labels                                            message\n",
       "0    ham  Go until jurong point, crazy.. Available only ...\n",
       "1    ham                      Ok lar... Joking wif u oni...\n",
       "2   spam  Free entry in 2 a wkly comp to win FA Cup fina...\n",
       "3    ham  U dun say so early hor... U c already then say...\n",
       "4    ham  Nah I don't think he goes to usf, he lives aro..."
      ]
     },
     "execution_count": 1,
     "metadata": {},
     "output_type": "execute_result"
    }
   ],
   "source": [
    "# Sources adapted from https://www.kaggle.com/dilip990/spam-ham-detection-using-naive-bayes-classifier\n",
    "import numpy as np \n",
    "import pandas as pd\n",
    "import matplotlib.pyplot as plt\n",
    "import seaborn as sns\n",
    "\n",
    "# the data is read from a textfile, containing ham or spam classification\n",
    "# and the text of the message in each line seperately\n",
    "message=pd.read_csv('SMSSpamCollection.txt',sep='\\t',names=[\"labels\",\"message\"])\n",
    "message.head()"
   ]
  },
  {
   "cell_type": "code",
   "execution_count": 2,
   "metadata": {},
   "outputs": [
    {
     "data": {
      "text/html": [
       "<div>\n",
       "<style scoped>\n",
       "    .dataframe tbody tr th:only-of-type {\n",
       "        vertical-align: middle;\n",
       "    }\n",
       "\n",
       "    .dataframe tbody tr th {\n",
       "        vertical-align: top;\n",
       "    }\n",
       "\n",
       "    .dataframe thead th {\n",
       "        text-align: right;\n",
       "    }\n",
       "</style>\n",
       "<table border=\"1\" class=\"dataframe\">\n",
       "  <thead>\n",
       "    <tr style=\"text-align: right;\">\n",
       "      <th></th>\n",
       "      <th>labels</th>\n",
       "      <th>message</th>\n",
       "    </tr>\n",
       "  </thead>\n",
       "  <tbody>\n",
       "    <tr>\n",
       "      <td>count</td>\n",
       "      <td>5572</td>\n",
       "      <td>5572</td>\n",
       "    </tr>\n",
       "    <tr>\n",
       "      <td>unique</td>\n",
       "      <td>2</td>\n",
       "      <td>5169</td>\n",
       "    </tr>\n",
       "    <tr>\n",
       "      <td>top</td>\n",
       "      <td>ham</td>\n",
       "      <td>Sorry, I'll call later</td>\n",
       "    </tr>\n",
       "    <tr>\n",
       "      <td>freq</td>\n",
       "      <td>4825</td>\n",
       "      <td>30</td>\n",
       "    </tr>\n",
       "  </tbody>\n",
       "</table>\n",
       "</div>"
      ],
      "text/plain": [
       "       labels                 message\n",
       "count    5572                    5572\n",
       "unique      2                    5169\n",
       "top       ham  Sorry, I'll call later\n",
       "freq     4825                      30"
      ]
     },
     "execution_count": 2,
     "metadata": {},
     "output_type": "execute_result"
    }
   ],
   "source": [
    "message.describe()"
   ]
  },
  {
   "cell_type": "code",
   "execution_count": 3,
   "metadata": {},
   "outputs": [
    {
     "data": {
      "text/plain": [
       "<matplotlib.axes._subplots.AxesSubplot at 0x24bc35bbb88>"
      ]
     },
     "execution_count": 3,
     "metadata": {},
     "output_type": "execute_result"
    },
    {
     "data": {
      "image/png": "[encoded data removed]",
      "text/plain": [
       "<Figure size 432x288 with 1 Axes>"
      ]
     },
     "metadata": {
      "needs_background": "light"
     },
     "output_type": "display_data"
    }
   ],
   "source": [
    "# In the message dataframe, we make a new column called length containing th elength of the message\n",
    "message['length']=message['message'].apply(len)\n",
    "\n",
    "# we can see, that most of the messages have a length between 0 and 200 chars\n",
    "message['length'].plot(bins=50,kind='hist')"
   ]
  },
  {
   "cell_type": "code",
   "execution_count": 4,
   "metadata": {},
   "outputs": [
    {
     "data": {
      "text/plain": [
       "count    5572.000000\n",
       "mean       80.489950\n",
       "std        59.942907\n",
       "min         2.000000\n",
       "25%        36.000000\n",
       "50%        62.000000\n",
       "75%       122.000000\n",
       "max       910.000000\n",
       "Name: length, dtype: float64"
      ]
     },
     "execution_count": 4,
     "metadata": {},
     "output_type": "execute_result"
    }
   ],
   "source": [
    "# but thats only intuition. Lets have a closer look\n",
    "# What represents that?\n",
    "message.length.describe()"
   ]
  },
  {
   "cell_type": "code",
   "execution_count": 5,
   "metadata": {},
   "outputs": [
    {
     "name": "stdout",
     "output_type": "stream",
     "text": [
      "For me the love should start with attraction.i should feel that I need her every time around me.she should be the first thing which comes in my thoughts.I would start the day and end it with her.she should be there every time I dream.love will be then when my every breath has her name.my life should happen around her.my life will be named to her.I would cry for her.will give all my happiness and take all her sorrows.I will be ready to fight with anyone for her.I will be in love when I will be doing the craziest things for her.love will be when I don't have to proove anyone that my girl is the most beautiful lady on the whole planet.I will always be singing praises for her.love will be when I start up making chicken curry and end up makiing sambar.life will be the most beautiful then.will get every morning and thank god for the day because she is with me.I would like to say a lot..will tell later..\n"
     ]
    }
   ],
   "source": [
    "# and here is the message having 910 words\n",
    "print(message[message['length']==910]['message'].iloc[0])"
   ]
  },
  {
   "cell_type": "code",
   "execution_count": 18,
   "metadata": {},
   "outputs": [
    {
     "name": "stdout",
     "output_type": "stream",
     "text": [
      "you are a sample message but I am nice\n",
      "['i', 'me', 'my', 'myself', 'we', 'our', 'ours', 'ourselves', 'you', \"you're\", \"you've\", \"you'll\", \"you'd\", 'your', 'yours', 'yourself', 'yourselves', 'he', 'him', 'his', 'himself', 'she', \"she's\", 'her', 'hers', 'herself', 'it', \"it's\", 'its', 'itself', 'they', 'them', 'their', 'theirs', 'themselves', 'what', 'which', 'who', 'whom', 'this', 'that', \"that'll\", 'these', 'those', 'am', 'is', 'are', 'was', 'were', 'be', 'been', 'being', 'have', 'has', 'had', 'having', 'do', 'does', 'did', 'doing', 'a', 'an', 'the', 'and', 'but', 'if', 'or', 'because', 'as', 'until', 'while', 'of', 'at', 'by', 'for', 'with', 'about', 'against', 'between', 'into', 'through', 'during', 'before', 'after', 'above', 'below', 'to', 'from', 'up', 'down', 'in', 'out', 'on', 'off', 'over', 'under', 'again', 'further', 'then', 'once']\n",
      "['sample', 'message', 'nice']\n"
     ]
    },
    {
     "name": "stderr",
     "output_type": "stream",
     "text": [
      "[nltk_data] Downloading package stopwords to\n",
      "[nltk_data]     C:\\Users\\hoka416\\AppData\\Roaming\\nltk_data...\n",
      "[nltk_data]   Package stopwords is already up-to-date!\n"
     ]
    }
   ],
   "source": [
    "# we need to clean the data...\n",
    "import string\n",
    "import nltk\n",
    "nltk.download('stopwords')\n",
    "from nltk.corpus import stopwords\n",
    "\n",
    "# first, we want to get rid of any puctuation\n",
    "text = 'you are a sample message, but I am nice!...'\n",
    "nopunc_text='';\n",
    "for char in text:\n",
    "    if char not in string.punctuation:\n",
    "        nopunc_text+=char\n",
    "print (nopunc_text)\n",
    "\n",
    "# Then there are these so-called stop words, which are useless\n",
    "# for our purpose since we can assume that they appear in any message regradless \n",
    "# of spam or ham. See an example below.\n",
    "print(stopwords.words('english')[0:100])\n",
    "nostop_text=[]\n",
    "for word in nopunc_text.split():\n",
    "    if word.lower() not in stopwords.words('english'):\n",
    "        nostop_text.append(word)\n",
    "print(nostop_text)"
   ]
  },
  {
   "cell_type": "code",
   "execution_count": 19,
   "metadata": {},
   "outputs": [
    {
     "name": "stdout",
     "output_type": "stream",
     "text": [
      "  labels                                            message  length\n",
      "0    ham  Go jurong point crazy Available bugis n great ...     111\n",
      "1    ham                          Ok lar Joking wif u oni        29\n",
      "2   spam  Free entry 2 wkly comp win FA Cup final tkts 2...     155\n",
      "3    ham              U dun say early hor U c already say        49\n",
      "4    ham      Nah dont think goes usf lives around though        61\n",
      "5   spam  FreeMsg Hey darling 3 weeks word back Id like ...     147\n",
      "6    ham   Even brother like speak treat like aids patent        77\n",
      "7    ham  per request Melle Melle Oru Minnaminunginte Nu...     160\n",
      "8   spam  WINNER valued network customer selected receiv...     157\n",
      "9   spam  mobile 11 months U R entitled Update latest co...     154\n"
     ]
    }
   ],
   "source": [
    "# Now we work with the text in our dataset\n",
    "for index, row in message.iterrows():\n",
    "    text = row['message']\n",
    "    \n",
    "    # we get rid of the punctuation\n",
    "    nopunc_text=''\n",
    "    for char in text:\n",
    "        if char not in string.punctuation:\n",
    "            nopunc_text+=char\n",
    "\n",
    "    # we remove the stopwords\n",
    "    nostop_text=''\n",
    "    for word in nopunc_text.split(\" \"):\n",
    "        if word.lower() not in stopwords.words('english'):\n",
    "            nostop_text+=word+\" \"\n",
    "            \n",
    "    message.at[index,'message']=nostop_text\n",
    "\n",
    "# looking good...\n",
    "print(message[:10])"
   ]
  },
  {
   "cell_type": "code",
   "execution_count": 20,
   "metadata": {},
   "outputs": [
    {
     "name": "stdout",
     "output_type": "stream",
     "text": [
      "<class 'pandas.core.series.Series'>\n",
      "['polys', 'polytruepixringtonesgames', 'pongal', 'pongaldo', 'ponnungale', 'poo']\n",
      "There are 9437 words in it\n",
      "Please dont text anymore nothing else say  \n",
      "  (0, 6391)\t1\n",
      "  (1, 2918)\t1\n",
      "  (2, 8217)\t1\n",
      "  (3, 1234)\t1\n",
      "  (4, 5876)\t1\n",
      "  (5, 3103)\t1\n",
      "  (6, 7192)\t1\n"
     ]
    }
   ],
   "source": [
    "# The next step ist to count how many times does a word occur in each message (Known as term frequency)\n",
    "from sklearn.feature_extraction.text import CountVectorizer\n",
    "vectorizer = CountVectorizer()\n",
    "print(type(message['message']))\n",
    "vectorizer.fit(message['message'].tolist())\n",
    "\n",
    "print(vectorizer.get_feature_names()[6449:6455])\n",
    "print(\"There are \"+str(len(vectorizer.vocabulary_))+\" words in it\")\n",
    "\n",
    "# Example\n",
    "print(message['message'].iloc[100])\n",
    "print(vectorizer.transform((message['message'].iloc[100].split())))"
   ]
  },
  {
   "cell_type": "code",
   "execution_count": 21,
   "metadata": {},
   "outputs": [
    {
     "name": "stdout",
     "output_type": "stream",
     "text": [
      "Shape of Sparse Matrix:  (5572, 9437)\n",
      "Amount of non-zero occurences: 47493\n",
      "  (0, 1234)\t1\n",
      "  (0, 2918)\t1\n",
      "  (0, 3103)\t1\n",
      "  (0, 5876)\t1\n",
      "  (0, 6391)\t1\n",
      "  (0, 7192)\t1\n",
      "  (0, 8217)\t1\n"
     ]
    }
   ],
   "source": [
    "messages_bow = vectorizer.transform(message['message'])\n",
    "print('Shape of Sparse Matrix: ',messages_bow.shape)\n",
    "print('Amount of non-zero occurences:',messages_bow.nnz)\n",
    "print(messages_bow[100])\n"
   ]
  },
  {
   "cell_type": "code",
   "execution_count": 22,
   "metadata": {},
   "outputs": [
    {
     "name": "stdout",
     "output_type": "stream",
     "text": [
      "  (0, 9184)\t0.23823945205277955\n",
      "  (0, 8947)\t0.19697793561986873\n",
      "  (0, 6433)\t0.27021168527978756\n",
      "  (0, 4847)\t0.2918551233339086\n",
      "  (0, 4687)\t0.3454707946150376\n",
      "  (0, 3888)\t0.19228423996761165\n",
      "  (0, 3848)\t0.16212654355140843\n",
      "  (0, 3791)\t0.15677261126284098\n",
      "  (0, 2497)\t0.2675433493028618\n",
      "  (0, 2214)\t0.2918551233339086\n",
      "  (0, 1881)\t0.2918551233339086\n",
      "  (0, 1879)\t0.32978921603981126\n",
      "  (0, 1414)\t0.26270259822044817\n",
      "  (0, 1181)\t0.3454707946150376\n",
      "  (1, 9079)\t0.43136824573695387\n",
      "  (1, 6027)\t0.5462933604518558\n",
      "  (1, 5995)\t0.27394819096941153\n",
      "  (1, 4886)\t0.4080786340459629\n",
      "  (1, 4655)\t0.5233633708961773\n",
      "  (2, 9136)\t0.18917074024829453\n",
      "  (2, 9093)\t0.14743898497020344\n",
      "  (2, 8592)\t0.12530724173499388\n",
      "  (2, 8380)\t0.21921354998683434\n",
      "  (2, 8217)\t0.12262079922942755\n",
      "  (2, 6833)\t0.1660004110301998\n",
      "  :\t:\n",
      "  (8, 6834)\t0.29506543469242547\n",
      "  (8, 6597)\t0.1793504751988651\n",
      "  (8, 5758)\t0.2153882708405334\n",
      "  (8, 4803)\t0.29506543469242547\n",
      "  (8, 4241)\t0.22612067118357726\n",
      "  (8, 2566)\t0.1919846371928806\n",
      "  (8, 2281)\t0.2142536330398757\n",
      "  (8, 2220)\t0.3414894763386853\n",
      "  (8, 1945)\t0.11556449460880888\n",
      "  (8, 913)\t0.2534039392300523\n",
      "  (8, 324)\t0.23714023792653083\n",
      "  (8, 217)\t0.29506543469242547\n",
      "  (9, 8696)\t0.47006516310954577\n",
      "  (9, 5565)\t0.2511979806610679\n",
      "  (9, 5521)\t0.24838224337259165\n",
      "  (9, 5520)\t0.33752350984770707\n",
      "  (9, 4903)\t0.2106490940462652\n",
      "  (9, 3577)\t0.2961692658912355\n",
      "  (9, 3157)\t0.2613180423402958\n",
      "  (9, 2304)\t0.22987537384778395\n",
      "  (9, 2270)\t0.2654614064903476\n",
      "  (9, 1978)\t0.2156119480185042\n",
      "  (9, 1945)\t0.11748342715718754\n",
      "  (9, 313)\t0.25761167681002395\n",
      "  (9, 56)\t0.29996495567808323\n"
     ]
    }
   ],
   "source": [
    "# This process calculates the word importance \n",
    "# IDF(t) = log_e(Total number of documents / Number of documents with term t in it)\n",
    "# TF-IDF stands for term frequency-inverse document frequency\n",
    "\n",
    "from sklearn.feature_extraction.text import TfidfTransformer\n",
    "tfidf_transformer=TfidfTransformer().fit(messages_bow)\n",
    "messages_tfidf=tfidf_transformer.transform(messages_bow)\n",
    "print((messages_tfidf)[:10])"
   ]
  },
  {
   "cell_type": "code",
   "execution_count": 23,
   "metadata": {},
   "outputs": [
    {
     "name": "stdout",
     "output_type": "stream",
     "text": [
      "predicted: spam\n",
      "expected: spam\n"
     ]
    }
   ],
   "source": [
    "# ready to train the model and make the first prediction\n",
    "# from sklearn.model_selection import train_test_split\n",
    "# msg_train,msg_test,label_train,label_test = train_test_split(message['message'],message['labels'],test_size=0.2)\n",
    "\n",
    "from sklearn.naive_bayes import MultinomialNB\n",
    "spam_detect_model = MultinomialNB().fit(messages_tfidf,message['labels'])\n",
    "\n",
    "print('predicted:',spam_detect_model.predict(messages_tfidf)[2])\n",
    "print('expected:',message['labels'][2])"
   ]
  },
  {
   "cell_type": "code",
   "execution_count": 24,
   "metadata": {},
   "outputs": [
    {
     "name": "stdout",
     "output_type": "stream",
     "text": [
      "              precision    recall  f1-score   support\n",
      "\n",
      "         ham       0.98      1.00      0.99      4825\n",
      "        spam       1.00      0.86      0.92       747\n",
      "\n",
      "    accuracy                           0.98      5572\n",
      "   macro avg       0.99      0.93      0.96      5572\n",
      "weighted avg       0.98      0.98      0.98      5572\n",
      "\n",
      "[[4825    0]\n",
      " [ 106  641]]\n"
     ]
    }
   ],
   "source": [
    "# And we continue to detect all messages\n",
    "all_predictions = spam_detect_model.predict(messages_tfidf)\n",
    "\n",
    "from sklearn.metrics import classification_report,confusion_matrix\n",
    "print(classification_report(message['labels'],all_predictions))\n",
    "print(confusion_matrix(message['labels'],all_predictions))\n",
    "\n",
    "# TP  FP!\n",
    "# FN! TN\n"
   ]
  },
  {
   "cell_type": "code",
   "execution_count": 25,
   "metadata": {},
   "outputs": [
    {
     "name": "stdout",
     "output_type": "stream",
     "text": [
      "['ham']\n"
     ]
    }
   ],
   "source": [
    "# And we can now classify our own messages\n",
    "inputmsg=[('Hey there what are you doing with that banana')]\n",
    "mymessage = pd.DataFrame(inputmsg, columns = ['msg'])\n",
    "mymessage['msg'].iloc[0]=\"Hey there what are you doing with that banana\";\n",
    "mymessage_bow = vectorizer.transform(mymessage['msg'])\n",
    "mymessages_tfidf=tfidf_transformer.transform(mymessage_bow)\n",
    "\n",
    "print(spam_detect_model.predict(mymessages_tfidf))\n"
   ]
  }
 ],
 "metadata": {
  "kernelspec": {
   "display_name": "Python 3",
   "language": "python",
   "name": "python3"
  },
  "language_info": {
   "codemirror_mode": {
    "name": "ipython",
    "version": 3
   },
   "file_extension": ".py",
   "mimetype": "text/x-python",
   "name": "python",
   "nbconvert_exporter": "python",
   "pygments_lexer": "ipython3",
   "version": "3.7.4"
  }
 },
 "nbformat": 4,
 "nbformat_minor": 2
}
