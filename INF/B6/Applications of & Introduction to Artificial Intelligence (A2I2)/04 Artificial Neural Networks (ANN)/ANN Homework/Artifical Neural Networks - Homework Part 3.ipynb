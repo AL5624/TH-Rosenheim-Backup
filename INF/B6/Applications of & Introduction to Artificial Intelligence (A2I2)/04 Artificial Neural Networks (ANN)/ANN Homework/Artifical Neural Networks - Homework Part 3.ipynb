{
 "cells": [
  {
   "cell_type": "markdown",
   "metadata": {},
   "source": [
    "<img src=\"images/thro.png\" align=\"right\"> \n",
    "# A2I2 - Artificial Neural Networks (ANN)\n",
    "\n",
    "## Homework - Part 3: Training of ANNs (learning, backpropagation)\n",
    "\n",
    "Please work through this notebook and solve the exercises **before** the lecture.\n",
    "\n",
    "***Expected time to complete the notebook: 45min***\n",
    "\n",
    "*-- Markus Breunig, Kai Höfig*"
   ]
  },
  {
   "cell_type": "markdown",
   "metadata": {},
   "source": [
    "# Introduction\n",
    "After watching the video in part 2 of the homework, you have a basic idea about how ANNs work. What you still do not know is how to set all these thousands or millions of parameters programmatically. \n",
    "\n",
    "If you think back about the very first lecture, you may remember that most machine learning methods consist of three parts: a model, a training algorithm and a model evaluation algorithm. In the case of ANN, \n",
    "* the **model** is the structure chose (number of hidden layers, number of neurons, activation function, etc.) and the set of weights (incl. the biases). \n",
    "* the **model evaluation algorithm** is the computation shown in the video in part 2 of the homework - starting at the input layer, computing all the matrix multiplications and squishification functions (we call them activation functions, mostly because squishification function is reall hard to type!) and outputting the values of the output layer. This is the so called \"feed forward\" algorithm.\n",
    "* the **training algorithm** for a neural network has to compute all the weights (and biases) - naturally, this is hard, as there are so many of them. The most widely used algorithm is called \"backpropagation\" (backprop for short), and you will learn about the underlying idea and the algorithm in the two videos in the part 3 of the homework"
   ]
  },
  {
   "cell_type": "markdown",
   "metadata": {},
   "source": [
    "# Gradient Descent\n",
    "\n",
    "Please watch the YouTube-video \"<a href=\"https://www.youtube.com/watch?v=IHZwWFHWa-w\">Gradient descent, how neural networks learn</a>\" from the start, up to time index 16:40 min (naturally, you can watch the rest of the video as well if you are curious).\n",
    "\n",
    "It will introduce \"gradient descent\", the basic idea underlying the training algorithm \"backpropagtion\", which is the subject of the following video."
   ]
  },
  {
   "cell_type": "markdown",
   "metadata": {},
   "source": [
    "## <span style=\"color:red\">*Exercise ANN:3:1*</span>\n",
    "\n",
    "<span style=\"color:blue\">a) How do we initialize the weights and biases of a network at the start of the training phase? How good do we expect this network to perform?</span>\n",
    "\n",
    "<span style=\"color:blue\">b) Why do we need a \"cost function\"?</span>\n",
    "\n",
    "<span style=\"color:blue\">c) How is the \"cost of one training example\" defined mathematically?</span>\n",
    "\n",
    "<span style=\"color:blue\">d) What does it mean of this cost is small, what if is large?</span>\n",
    "\n",
    "<span style=\"color:blue\">e) How do we compute the cost of ALL the training examples? What is the meaning of this value?</span>\n",
    "\n",
    "<span style=\"color:blue\">f) What does the Gradient of a multidimensional function tell you? How does this help us in minimizing the cost function?</span>\n",
    "\n",
    "<span style=\"color:blue\">g) What do we mean mathematically, if we talk about \"a neural network is learning\"?</span>\n",
    "\n",
    "<span style=\"color:blue\">h) What is \"Gradient Descent\"?</span>\n",
    "\n",
    "<span style=\"color:blue\">i) Why does a neural network give confident answers for the classification problem? How could you try to solve this problem?</span>\n"
   ]
  },
  {
   "cell_type": "code",
   "execution_count": null,
   "metadata": {},
   "outputs": [],
   "source": [
    "# Solution for ANN:3:1"
   ]
  },
  {
   "cell_type": "markdown",
   "metadata": {},
   "source": [
    "## Questions?\n",
    "In case you have any questions regarding the video or the exercises, write them down here and now! I will be asking for questions at the beginning of the lecture."
   ]
  },
  {
   "cell_type": "markdown",
   "metadata": {},
   "source": [
    "### My Questions:\n",
    "* xxx\n",
    "* yyy\n",
    "* zzz"
   ]
  },
  {
   "cell_type": "markdown",
   "metadata": {},
   "source": [
    "# Backpropagation\n",
    "\n",
    "Please watch the YouTube-video \"<a href=\"https://www.youtube.com/watch?v=Ilg3gGewQ5U\">What is backpropagation really doing?</a>\" from the start, up to time index 12:30 min."
   ]
  },
  {
   "cell_type": "markdown",
   "metadata": {},
   "source": [
    "## <span style=\"color:red\">*Exercise ANN:3:2*</span>\n",
    "\n",
    "<span style=\"color:blue\">a) What are the three avenues you have to nudge the activation of a neuron in the direction you want it to move?</span>\n",
    "\n",
    "<span style=\"color:blue\">b) Which weights have the strongest influence on the activation of a neuron? What \"rule\" to change the weights can you infer from this?</span>\n",
    "\n",
    "<span style=\"color:blue\">c) Similarly to the last question, what is the rule for changing the activations?</span>\n",
    "\n",
    "<span style=\"color:blue\">d) Explain the idea of stochastic gradient descent - what does it do and why? Make sure to include the concept of \"mini batches\" in your explanation.</span>"
   ]
  },
  {
   "cell_type": "code",
   "execution_count": null,
   "metadata": {},
   "outputs": [],
   "source": [
    "# Solution for ANN:3:2"
   ]
  },
  {
   "cell_type": "markdown",
   "metadata": {},
   "source": [
    "## Questions?\n",
    "In case you have any questions regarding the video or the exercises, write them down here and now! I will be asking for questions at the beginning of the lecture."
   ]
  },
  {
   "cell_type": "markdown",
   "metadata": {},
   "source": [
    "### My Questions:\n",
    "* xxx\n",
    "* yyy\n",
    "* zzz"
   ]
  },
  {
   "cell_type": "code",
   "execution_count": null,
   "metadata": {},
   "outputs": [],
   "source": [
    "# --- EOF ---"
   ]
  }
 ],
 "metadata": {
  "kernelspec": {
   "display_name": "Python 3",
   "language": "python",
   "name": "python3"
  },
  "language_info": {
   "codemirror_mode": {
    "name": "ipython",
    "version": 3
   },
   "file_extension": ".py",
   "mimetype": "text/x-python",
   "name": "python",
   "nbconvert_exporter": "python",
   "pygments_lexer": "ipython3",
   "version": "3.7.4"
  }
 },
 "nbformat": 4,
 "nbformat_minor": 4
}
