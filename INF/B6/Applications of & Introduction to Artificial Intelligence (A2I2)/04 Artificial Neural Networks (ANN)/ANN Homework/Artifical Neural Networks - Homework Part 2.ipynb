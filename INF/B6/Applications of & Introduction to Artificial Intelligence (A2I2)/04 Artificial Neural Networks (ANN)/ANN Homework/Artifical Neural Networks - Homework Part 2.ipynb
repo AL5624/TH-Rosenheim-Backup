{
 "cells": [
  {
   "cell_type": "markdown",
   "metadata": {},
   "source": [
    "<img src=\"images/thro.png\" align=\"right\"> \n",
    "# A2I2 - Artificial Neural Networks (ANN)\n",
    "\n",
    "## Homework - Part 2: Artificial Neural Networks - Basic Structure\n",
    "\n",
    "Please work through this notebook and solve the exercises **before** the lecture.\n",
    "\n",
    "***Expected time to complete the notebook: 45min***\n",
    "\n",
    "*-- Markus Breunig, Kai Höfig*"
   ]
  },
  {
   "cell_type": "markdown",
   "metadata": {},
   "source": [
    "# Introduction\n",
    "Now that we understand the artificial neuron as a basic building block, we will see how to combine multiple neurons into an artificial neural network.\n",
    "\n",
    "There is a great animated introduction to neural networks by Grant Sanderson, who is running the YouTube channel <a href=\"https://www.youtube.com/channel/UCYO_jab_esuFRV4b17AJtAw\">3Blue1Brown</a> and also a <a href=\"https://www.3blue1brown.com/\">website</a>.\n",
    "\n",
    "I can **higly recommend** all of his videos, they are fun to watch but still go deep into the underlying (mathematical) concepts."
   ]
  },
  {
   "cell_type": "markdown",
   "metadata": {},
   "source": [
    "# Structure of ANN\n",
    "\n",
    "Please watch the YouTube-video \"<a href=\"https://www.youtube.com/watch?v=aircAruvnKk\">But what is a Neural Network?</a>\". It will introduct the basic concepts of artificial neural networks. You already know a bit more about \"what a neuron is\" than he assumes, but this will only help you better understand the video."
   ]
  },
  {
   "cell_type": "markdown",
   "metadata": {},
   "source": [
    "## <span style=\"color:red\">*Exercise ANN:2:1*</span>\n",
    "\n",
    "<span style=\"color:blue\">a) How many input neurons and how many output neurons does the example used in the video have? Why exactly this many?</span>\n",
    "\n",
    "<span style=\"color:blue\">b) What range of values can the activation of each neuron take on?</span>\n",
    "\n",
    "<span style=\"color:blue\">c) Does is matter, in which order the pixels of the input image are fed into the network?Why/Why not?</span>\n",
    "\n",
    "<span style=\"color:blue\">d) He chose 2 hidden layers with 16 neurons each, admitting that this is a quite arbitrary choice. What do you expect to happen, if the number of hidden layers and the number of neurons in them is increased?</span>\n",
    "\n",
    "<span style=\"color:blue\">e) Why does your network with 784 input neurons and 16 neurons in the second layer have 12560 weights between these layers, and not 12544 = 784*16?</span>\n",
    "\n",
    "<span style=\"color:blue\">f) What is the motivation given for having exactly 2 hidden layers?</span>\n",
    "\n",
    "<span style=\"color:blue\">g) In the video when moving to the matrix/vector multiplication, he is keeping the baises as a seperate vector (added on). In the first Homework Notebook, we saw the trick to treat the bias just like all other weight. How do we need to change the matrix W and the activation vector a to eliminate the bias vector b from the formula?</span>\n",
    "\n",
    "<span style=\"color:blue\">h) In summary, what is a neural network?</span>\n"
   ]
  },
  {
   "cell_type": "code",
   "execution_count": null,
   "metadata": {},
   "outputs": [],
   "source": [
    "# Solution for ANN:2:1"
   ]
  },
  {
   "cell_type": "markdown",
   "metadata": {},
   "source": [
    "## Questions?\n",
    "In case you have any questions regarding the video or the exercises, write them down here and now! I will be asking for questions at the beginning of the lecture."
   ]
  },
  {
   "cell_type": "markdown",
   "metadata": {},
   "source": [
    "### My Questions:\n",
    "* xxx\n",
    "* yyy\n",
    "* zzz"
   ]
  },
  {
   "cell_type": "code",
   "execution_count": null,
   "metadata": {},
   "outputs": [],
   "source": [
    "# --- EOF ---"
   ]
  }
 ],
 "metadata": {
  "kernelspec": {
   "display_name": "Python 3",
   "language": "python",
   "name": "python3"
  },
  "language_info": {
   "codemirror_mode": {
    "name": "ipython",
    "version": 3
   },
   "file_extension": ".py",
   "mimetype": "text/x-python",
   "name": "python",
   "nbconvert_exporter": "python",
   "pygments_lexer": "ipython3",
   "version": "3.7.4"
  }
 },
 "nbformat": 4,
 "nbformat_minor": 4
}
