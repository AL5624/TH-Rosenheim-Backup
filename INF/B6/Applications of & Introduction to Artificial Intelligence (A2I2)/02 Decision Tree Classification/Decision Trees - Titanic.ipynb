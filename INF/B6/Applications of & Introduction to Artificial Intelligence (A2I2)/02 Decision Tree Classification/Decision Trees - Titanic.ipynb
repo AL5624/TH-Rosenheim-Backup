{
 "cells": [
  {
   "cell_type": "code",
   "execution_count": 1,
   "metadata": {},
   "outputs": [
    {
     "name": "stdout",
     "output_type": "stream",
     "text": [
      "    survived  pclass     sex   age  sibsp  parch     fare embarked   class  \\\n",
      "0          0       3    male  22.0      1      0   7.2500        S   Third   \n",
      "1          1       1  female  38.0      1      0  71.2833        C   First   \n",
      "2          1       3  female  26.0      0      0   7.9250        S   Third   \n",
      "3          1       1  female  35.0      1      0  53.1000        S   First   \n",
      "4          0       3    male  35.0      0      0   8.0500        S   Third   \n",
      "5          0       3    male   NaN      0      0   8.4583        Q   Third   \n",
      "6          0       1    male  54.0      0      0  51.8625        S   First   \n",
      "7          0       3    male   2.0      3      1  21.0750        S   Third   \n",
      "8          1       3  female  27.0      0      2  11.1333        S   Third   \n",
      "9          1       2  female  14.0      1      0  30.0708        C  Second   \n",
      "10         1       3  female   4.0      1      1  16.7000        S   Third   \n",
      "11         1       1  female  58.0      0      0  26.5500        S   First   \n",
      "12         0       3    male  20.0      0      0   8.0500        S   Third   \n",
      "13         0       3    male  39.0      1      5  31.2750        S   Third   \n",
      "14         0       3  female  14.0      0      0   7.8542        S   Third   \n",
      "15         1       2  female  55.0      0      0  16.0000        S  Second   \n",
      "16         0       3    male   2.0      4      1  29.1250        Q   Third   \n",
      "17         1       2    male   NaN      0      0  13.0000        S  Second   \n",
      "18         0       3  female  31.0      1      0  18.0000        S   Third   \n",
      "19         1       3  female   NaN      0      0   7.2250        C   Third   \n",
      "\n",
      "      who  adult_male deck  embark_town alive  alone  \n",
      "0     man        True  NaN  Southampton    no  False  \n",
      "1   woman       False    C    Cherbourg   yes  False  \n",
      "2   woman       False  NaN  Southampton   yes   True  \n",
      "3   woman       False    C  Southampton   yes  False  \n",
      "4     man        True  NaN  Southampton    no   True  \n",
      "5     man        True  NaN   Queenstown    no   True  \n",
      "6     man        True    E  Southampton    no   True  \n",
      "7   child       False  NaN  Southampton    no  False  \n",
      "8   woman       False  NaN  Southampton   yes  False  \n",
      "9   child       False  NaN    Cherbourg   yes  False  \n",
      "10  child       False    G  Southampton   yes  False  \n",
      "11  woman       False    C  Southampton   yes   True  \n",
      "12    man        True  NaN  Southampton    no   True  \n",
      "13    man        True  NaN  Southampton    no  False  \n",
      "14  child       False  NaN  Southampton    no   True  \n",
      "15  woman       False  NaN  Southampton   yes   True  \n",
      "16  child       False  NaN   Queenstown    no  False  \n",
      "17    man        True  NaN  Southampton   yes   True  \n",
      "18  woman       False  NaN  Southampton    no  False  \n",
      "19  woman       False  NaN    Cherbourg   yes   True  \n"
     ]
    }
   ],
   "source": [
    "import seaborn as sb # From this package we will load the data.\n",
    "import pandas as pd # We need this package to use dataframes. They are quite handy!\n",
    "import numpy as np # I am sure we need it somewhere.. \n",
    "\n",
    "# First, lets load the datat set titanic and lets have a short look inside.\n",
    "titanic = sb.load_dataset('titanic')\n",
    "print(titanic[0:20])"
   ]
  },
  {
   "cell_type": "code",
   "execution_count": 2,
   "metadata": {
    "scrolled": true
   },
   "outputs": [
    {
     "name": "stdout",
     "output_type": "stream",
     "text": [
      "survived       891\n",
      "pclass         891\n",
      "sex            891\n",
      "age            714\n",
      "sibsp          891\n",
      "parch          891\n",
      "fare           891\n",
      "embarked       889\n",
      "class          891\n",
      "who            891\n",
      "adult_male     891\n",
      "deck           203\n",
      "embark_town    889\n",
      "alive          891\n",
      "alone          891\n",
      "dtype: int64\n"
     ]
    }
   ],
   "source": [
    "# Alright. Lets see if every row has a value or if there are voids\n",
    "print(titanic.count())"
   ]
  },
  {
   "cell_type": "code",
   "execution_count": 3,
   "metadata": {},
   "outputs": [
    {
     "name": "stdout",
     "output_type": "stream",
     "text": [
      "survived       0.383838\n",
      "pclass         2.308642\n",
      "age           29.699118\n",
      "sibsp          0.523008\n",
      "parch          0.381594\n",
      "fare          32.204208\n",
      "adult_male     0.602694\n",
      "alone          0.602694\n",
      "dtype: float64\n"
     ]
    }
   ],
   "source": [
    "# So what are the mean values?\n",
    "print(titanic.mean())"
   ]
  },
  {
   "cell_type": "code",
   "execution_count": 4,
   "metadata": {
    "scrolled": true
   },
   "outputs": [
    {
     "name": "stdout",
     "output_type": "stream",
     "text": [
      "survived                                                    342\n",
      "pclass                                                     2057\n",
      "sex           malefemalefemalefemalemalemalemalemalefemalefe...\n",
      "age                                                     21205.2\n",
      "sibsp                                                       466\n",
      "parch                                                       340\n",
      "fare                                                    28693.9\n",
      "class         ThirdFirstThirdFirstThirdThirdFirstThirdThirdS...\n",
      "who           manwomanwomanwomanmanmanmanchildwomanchildchil...\n",
      "adult_male                                                  537\n",
      "alive         noyesyesyesnonononoyesyesyesyesnononoyesnoyesn...\n",
      "alone                                                       537\n",
      "dtype: object\n"
     ]
    }
   ],
   "source": [
    "# And what if we sum them?\n",
    "print(titanic.sum())"
   ]
  },
  {
   "cell_type": "code",
   "execution_count": 5,
   "metadata": {
    "scrolled": true
   },
   "outputs": [
    {
     "name": "stdout",
     "output_type": "stream",
     "text": [
      "--------------------------------------------------------------------------------- gender means\n",
      "        survived    pclass        age     sibsp     parch       fare  \\\n",
      "sex                                                                    \n",
      "female  0.742038  2.159236  27.915709  0.694268  0.649682  44.479818   \n",
      "male    0.188908  2.389948  30.726645  0.429809  0.235702  25.523893   \n",
      "\n",
      "        adult_male     alone  \n",
      "sex                           \n",
      "female    0.000000  0.401274  \n",
      "male      0.930676  0.712305  \n",
      "--------------------------------------------------------------------------------- gender counts\n",
      "        survived  pclass  age  sibsp  parch  fare  embarked  class  who  \\\n",
      "sex                                                                       \n",
      "female       314     314  261    314    314   314       312    314  314   \n",
      "male         577     577  453    577    577   577       577    577  577   \n",
      "\n",
      "        adult_male  deck  embark_town  alive  alone  \n",
      "sex                                                  \n",
      "female         314    97          312    314    314  \n",
      "male           577   106          577    577    577  \n",
      "--------------------------------------------------------------------------------- gender sums\n",
      "        survived  pclass       age  sibsp  parch        fare  adult_male  \\\n",
      "sex                                                                        \n",
      "female       233     678   7286.00    218    204  13966.6628         0.0   \n",
      "male         109    1379  13919.17    248    136  14727.2865       537.0   \n",
      "\n",
      "        alone  \n",
      "sex            \n",
      "female  126.0  \n",
      "male    411.0  \n"
     ]
    }
   ],
   "source": [
    "# Lets see the differences between men and women\n",
    "print('--------------------------------------------------------------------------------- gender means')\n",
    "print(titanic.groupby('sex').mean())\n",
    "print('--------------------------------------------------------------------------------- gender counts')\n",
    "print(titanic.groupby('sex').count())\n",
    "print('--------------------------------------------------------------------------------- gender sums')\n",
    "print(titanic.groupby('sex').sum())\n"
   ]
  },
  {
   "cell_type": "code",
   "execution_count": 6,
   "metadata": {},
   "outputs": [
    {
     "name": "stdout",
     "output_type": "stream",
     "text": [
      "--------------------------------------------------------------------------------- pclass means\n",
      "        survived        age     sibsp     parch       fare  adult_male  \\\n",
      "pclass                                                                   \n",
      "1       0.629630  38.233441  0.416667  0.356481  84.154687    0.550926   \n",
      "2       0.472826  29.877630  0.402174  0.380435  20.662183    0.538043   \n",
      "3       0.242363  25.140620  0.615071  0.393075  13.675550    0.649695   \n",
      "\n",
      "           alone  \n",
      "pclass            \n",
      "1       0.504630  \n",
      "2       0.565217  \n",
      "3       0.659878  \n",
      "--------------------------------------------------------------------------------- pclass counts\n",
      "        survived  sex  age  sibsp  parch  fare  embarked  class  who  \\\n",
      "pclass                                                                 \n",
      "1            216  216  186    216    216   216       214    216  216   \n",
      "2            184  184  173    184    184   184       184    184  184   \n",
      "3            491  491  355    491    491   491       491    491  491   \n",
      "\n",
      "        adult_male  deck  embark_town  alive  alone  \n",
      "pclass                                               \n",
      "1              216   175          214    216    216  \n",
      "2              184    16          184    184    184  \n",
      "3              491    12          491    491    491  \n",
      "--------------------------------------------------------------------------------- pclass sums\n",
      "        survived      age  sibsp  parch        fare  adult_male  alone\n",
      "pclass                                                                \n",
      "1            136  7111.42     90     77  18177.4125       119.0  109.0\n",
      "2             87  5168.83     74     70   3801.8417        99.0  104.0\n",
      "3            119  8924.92    302    193   6714.6951       319.0  324.0\n"
     ]
    }
   ],
   "source": [
    "# And between the classes\n",
    "print('--------------------------------------------------------------------------------- pclass means')\n",
    "print(titanic.groupby('pclass').mean())\n",
    "print('--------------------------------------------------------------------------------- pclass counts')\n",
    "print(titanic.groupby('pclass').count())\n",
    "print('--------------------------------------------------------------------------------- pclass sums')\n",
    "print(titanic.groupby('pclass').sum())"
   ]
  },
  {
   "cell_type": "code",
   "execution_count": 7,
   "metadata": {},
   "outputs": [
    {
     "name": "stdout",
     "output_type": "stream",
     "text": [
      "class      First    Second     Third\n",
      "sex                                 \n",
      "female  0.968085  0.921053  0.500000\n",
      "male    0.368852  0.157407  0.135447\n"
     ]
    }
   ],
   "source": [
    "# What gender survived in which class?\n",
    "print(titanic.pivot_table('survived','sex','class'))"
   ]
  },
  {
   "cell_type": "code",
   "execution_count": 8,
   "metadata": {},
   "outputs": [
    {
     "name": "stdout",
     "output_type": "stream",
     "text": [
      "0      (17.0, 100.0]\n",
      "1      (17.0, 100.0]\n",
      "2      (17.0, 100.0]\n",
      "3      (17.0, 100.0]\n",
      "4      (17.0, 100.0]\n",
      "           ...      \n",
      "886    (17.0, 100.0]\n",
      "887    (17.0, 100.0]\n",
      "888              NaN\n",
      "889    (17.0, 100.0]\n",
      "890    (17.0, 100.0]\n",
      "Name: age, Length: 891, dtype: category\n",
      "Categories (2, interval[int64]): [(0, 17] < (17, 100]]\n",
      "----------------\n",
      "class                First    Second     Third\n",
      "sex    age                                    \n",
      "female (0, 17]    0.875000  1.000000  0.542857\n",
      "       (17, 100]  0.974026  0.903226  0.417910\n",
      "male   (0, 17]    1.000000  0.818182  0.232558\n",
      "       (17, 100]  0.371134  0.068182  0.133333\n"
     ]
    }
   ],
   "source": [
    "# Make categories from the age\n",
    "age_range = pd.cut(titanic['age'],[0,17,100])\n",
    "print(age_range)\n",
    "print('----------------')\n",
    "print(titanic.pivot_table('survived',['sex',age_range],'class'))"
   ]
  },
  {
   "cell_type": "code",
   "execution_count": 17,
   "metadata": {
    "scrolled": true
   },
   "outputs": [
    {
     "name": "stdout",
     "output_type": "stream",
     "text": [
      "0.21.3\n",
      "   survived  pclass     sex   age  sibsp  parch     fare embarked   class  \\\n",
      "0         0       3    male  22.0      1      0   7.2500        S   Third   \n",
      "1         1       1  female  38.0      1      0  71.2833        C   First   \n",
      "2         1       3  female  26.0      0      0   7.9250        S   Third   \n",
      "3         1       1  female  35.0      1      0  53.1000        S   First   \n",
      "4         0       3    male  35.0      0      0   8.0500        S   Third   \n",
      "5         0       3    male   NaN      0      0   8.4583        Q   Third   \n",
      "6         0       1    male  54.0      0      0  51.8625        S   First   \n",
      "7         0       3    male   2.0      3      1  21.0750        S   Third   \n",
      "8         1       3  female  27.0      0      2  11.1333        S   Third   \n",
      "9         1       2  female  14.0      1      0  30.0708        C  Second   \n",
      "\n",
      "     who  adult_male deck  embark_town alive  alone  encoded_sex  \\\n",
      "0    man        True  NaN  Southampton    no  False            1   \n",
      "1  woman       False    C    Cherbourg   yes  False            0   \n",
      "2  woman       False  NaN  Southampton   yes   True            0   \n",
      "3  woman       False    C  Southampton   yes  False            0   \n",
      "4    man        True  NaN  Southampton    no   True            1   \n",
      "5    man        True  NaN   Queenstown    no   True            1   \n",
      "6    man        True    E  Southampton    no   True            1   \n",
      "7  child       False  NaN  Southampton    no  False            1   \n",
      "8  woman       False  NaN  Southampton   yes  False            0   \n",
      "9  child       False  NaN    Cherbourg   yes  False            0   \n",
      "\n",
      "   encoded_class  encoded_age     ranged_age  \n",
      "0              2         22.0  (17.0, 100.0]  \n",
      "1              0         38.0  (17.0, 100.0]  \n",
      "2              2         26.0  (17.0, 100.0]  \n",
      "3              0         35.0  (17.0, 100.0]  \n",
      "4              2         35.0  (17.0, 100.0]  \n",
      "5              2         -1.0            nan  \n",
      "6              0         54.0  (17.0, 100.0]  \n",
      "7              2          2.0    (0.0, 17.0]  \n",
      "8              2         27.0  (17.0, 100.0]  \n",
      "9              1         14.0    (0.0, 17.0]  \n"
     ]
    }
   ],
   "source": [
    "# Lets do a first Decision Tree\n",
    "from sklearn.tree import DecisionTreeClassifier\n",
    "import sklearn\n",
    "from sklearn import tree\n",
    "from sklearn import preprocessing\n",
    "\n",
    "print(sklearn.__version__)\n",
    "\n",
    "# https://scikit-learn.org/stable/modules/generated/sklearn.tree.DecisionTreeClassifier.html\n",
    "# All paramaters taken here are defaults\n",
    "dtree = tree.DecisionTreeClassifier(\n",
    "    criterion='gini', # {“gini”, “entropy”}\n",
    "    splitter='best', # {“best”, “random”} \n",
    "    max_depth=None, # The maximum depth of the tree. If None, then nodes are expanded until all leaves are pure or until all leaves contain less than min_samples_split samples.\n",
    "    min_samples_split=2, # The minimum number of samples required to split an internal node \n",
    "    min_samples_leaf=1, # The minimum number of samples required to be at a leaf node. \n",
    "    min_weight_fraction_leaf=0.0, # The minimum weighted fraction of the sum total of weights (of all the input samples) required to be at a leaf node.\n",
    "    max_features=None, # The number of features to consider when looking for the best split\n",
    "    max_leaf_nodes=None, #Grow a tree with max_leaf_nodes in best-first fashion. \n",
    "    min_impurity_decrease=0.0 # A node will be split if this split induces a decrease of the impurity greater than or equal to this value. \n",
    "    )\n",
    "\n",
    "# transform female into 0 and male into 1 using an extra column\n",
    "sex_encoder = preprocessing.LabelEncoder()\n",
    "sex_encoder.fit(['female','male', np.nan])\n",
    "titanic['encoded_sex']=sex_encoder.transform(titanic['sex'])\n",
    "\n",
    "# same for class\n",
    "class_encoder = preprocessing.LabelEncoder()\n",
    "class_encoder.fit(['First','Second','Third', np.nan])\n",
    "titanic['encoded_class']=class_encoder.transform(titanic['class'])\n",
    "\n",
    "# kick the nans out\n",
    "titanic['encoded_age']=titanic['age'].replace(np.nan,-1)\n",
    "\n",
    "print(titanic[:10])\n",
    "\n",
    "dtree = dtree.fit(titanic[['encoded_sex','encoded_age','encoded_class']],titanic[['survived']])\n"
   ]
  },
  {
   "cell_type": "code",
   "execution_count": 18,
   "metadata": {},
   "outputs": [
    {
     "name": "stdout",
     "output_type": "stream",
     "text": [
      "[1]\n"
     ]
    },
    {
     "data": {
      "text/html": [
       "\n",
       "        <iframe\n",
       "            width=\"700\"\n",
       "            height=\"400\"\n",
       "            src=\"./titanic_large.pdf\"\n",
       "            frameborder=\"0\"\n",
       "            allowfullscreen\n",
       "        ></iframe>\n",
       "        "
      ],
      "text/plain": [
       "<IPython.lib.display.IFrame at 0x2399eb73688>"
      ]
     },
     "execution_count": 18,
     "metadata": {},
     "output_type": "execute_result"
    }
   ],
   "source": [
    "# now we can classify samples\n",
    "# sex, age, class predicting survived\n",
    "print(dtree.predict([[0,10,0]]))\n",
    "\n",
    "# and print the tree to check was has happened\n",
    "import graphviz \n",
    "dot_data = tree.export_graphviz(dtree, \n",
    "                                out_file=None,\n",
    "                                feature_names=['sex','age','class'],  \n",
    "                                class_names=['dead','alive'],  \n",
    "                                filled=True, rounded=True,  \n",
    "                                special_characters=True)   \n",
    "graph = graphviz.Source(dot_data) \n",
    "graph.render('titanic_large') \n",
    "\n",
    "# unfortunately not supported in Azure today. \n",
    "# browse to .pdf file and open manually.\n",
    "from IPython.display import IFrame, display\n",
    "IFrame('./titanic_large.pdf', width=700, height=400)"
   ]
  },
  {
   "cell_type": "code",
   "execution_count": 11,
   "metadata": {},
   "outputs": [
    {
     "name": "stdout",
     "output_type": "stream",
     "text": [
      "     prediction  result\n",
      "0             0       0\n",
      "1             1       1\n",
      "2             1       1\n",
      "3             1       1\n",
      "4             0       0\n",
      "..          ...     ...\n",
      "886           0       0\n",
      "887           1       1\n",
      "888           1       0\n",
      "889           1       1\n",
      "890           0       0\n",
      "\n",
      "[891 rows x 2 columns]\n",
      "predicted and actual deaths in total: \n",
      "prediction    297\n",
      "result        342\n",
      "dtype: int64\n",
      "Correct predictions: 784 total, 88.08988764044943%\n",
      "False predictions: 107 total, 12.02247191011236%\n",
      "Erronously predicted people alive 31\n",
      "Erronously predicted people dead 76\n"
     ]
    }
   ],
   "source": [
    "# Now we want to find out, how good the prediction is.\n",
    "prediction_array=dtree.predict(titanic[['encoded_sex','encoded_age','encoded_class']])\n",
    "prediction_dataframe=pd.DataFrame(data=prediction_array, columns=[\"prediction\"])\n",
    "prediction_dataframe['result']=titanic['survived']\n",
    "\n",
    "print(prediction_dataframe)\n",
    "print(\"predicted and actual deaths in total: \")\n",
    "print(prediction_dataframe.apply(np.sum, axis=0))\n",
    "\n",
    "false_deaths=0\n",
    "false_alives=0\n",
    "false_predictions=0\n",
    "correct_predictions=0\n",
    "      \n",
    "for ind in prediction_dataframe.index:\n",
    "      if (prediction_dataframe['result'][ind]==prediction_dataframe['prediction'][ind]):\n",
    "          correct_predictions+=1\n",
    "      else:\n",
    "          false_predictions+=1\n",
    "      if(prediction_dataframe['result'][ind]!=prediction_dataframe['prediction'][ind] and prediction_dataframe['prediction'][ind]==0):\n",
    "          false_deaths+=1\n",
    "      if(prediction_dataframe['result'][ind]!=prediction_dataframe['prediction'][ind] and prediction_dataframe['prediction'][ind]==1):\n",
    "          false_alives+=1\n",
    "    \n",
    "print(\"Correct predictions: \"+str(correct_predictions)+\" total, \"+str(correct_predictions*100/890)+\"%\")\n",
    "print(\"False predictions: \"+str(false_predictions)+\" total, \"+str(false_predictions*100/890)+\"%\")\n",
    "print(\"Erronously predicted people alive \"+str(false_alives))\n",
    "print(\"Erronously predicted people dead \"+str(false_deaths))"
   ]
  },
  {
   "cell_type": "code",
   "execution_count": 12,
   "metadata": {
    "scrolled": true
   },
   "outputs": [
    {
     "data": {
      "text/html": [
       "\n",
       "        <iframe\n",
       "            width=\"700\"\n",
       "            height=\"400\"\n",
       "            src=\"./titanic_shorter.pdf\"\n",
       "            frameborder=\"0\"\n",
       "            allowfullscreen\n",
       "        ></iframe>\n",
       "        "
      ],
      "text/plain": [
       "<IPython.lib.display.IFrame at 0x2399eb0de88>"
      ]
     },
     "execution_count": 12,
     "metadata": {},
     "output_type": "execute_result"
    }
   ],
   "source": [
    "# OK, since the age is making the graph explode, we can use ranges\n",
    "\n",
    "# https://scikit-learn.org/stable/modules/generated/sklearn.tree.DecisionTreeClassifier.html\n",
    "# All paramaters taken here are defaults\n",
    "dtree2 = tree.DecisionTreeClassifier(\n",
    "    criterion='gini', # {“gini”, “entropy”}\n",
    "    splitter='best', # {“best”, “random”} \n",
    "    max_depth=None, # The maximum depth of the tree. If None, then nodes are expanded until all leaves are pure or until all leaves contain less than min_samples_split samples.\n",
    "    min_samples_split=2, # The minimum number of samples required to split an internal node \n",
    "    min_samples_leaf=1, # The minimum number of samples required to be at a leaf node. \n",
    "    min_weight_fraction_leaf=0.005, # The minimum weighted fraction of the sum total of weights (of all the input samples) required to be at a leaf node.\n",
    "    max_features=None, # The number of features to consider when looking for the best split\n",
    "    max_leaf_nodes=None, #Grow a tree with max_leaf_nodes in best-first fashion. \n",
    "    min_impurity_decrease=0.01 # A node will be split if this split induces a decrease of the impurity greater than or equal to this value. \n",
    "    )\n",
    "\n",
    "titanic['ranged_age']=pd.cut(titanic['age'],[-2,0,17,100])\n",
    "titanic['ranged_age']=titanic['ranged_age'].astype('str')\n",
    "age_encoder = preprocessing.LabelEncoder()\n",
    "age_encoder.fit(titanic['ranged_age'])\n",
    "titanic['encoded_age']=age_encoder.transform(titanic['ranged_age'])\n",
    "titanic['encoded_age']=titanic['encoded_age'].replace(np.nan,-1)\n",
    "\n",
    "dtree2 = dtree2.fit(titanic[['encoded_sex','encoded_age','encoded_class']],titanic[['survived']])\n",
    "\n",
    "dot_data = tree.export_graphviz(dtree2, \n",
    "                                out_file=None,\n",
    "                                feature_names=['sex','age','class'],  \n",
    "                                class_names=['dead','alive'],  \n",
    "                                filled=True, rounded=True,  \n",
    "                                special_characters=True)   \n",
    "graph = graphviz.Source(dot_data) \n",
    "graph.render(\"titanic_shorter\") \n",
    "\n",
    "# unfortunately not supported in Azure today. \n",
    "# browse to .pdf file and open manually.\n",
    "IFrame('./titanic_shorter.pdf', width=700, height=400)"
   ]
  },
  {
   "cell_type": "code",
   "execution_count": 13,
   "metadata": {
    "scrolled": true
   },
   "outputs": [
    {
     "name": "stdout",
     "output_type": "stream",
     "text": [
      "     prediction  result\n",
      "0             0       0\n",
      "1             1       1\n",
      "2             0       1\n",
      "3             1       1\n",
      "4             0       0\n",
      "..          ...     ...\n",
      "886           0       0\n",
      "887           1       1\n",
      "888           0       0\n",
      "889           0       1\n",
      "890           0       0\n",
      "\n",
      "[891 rows x 2 columns]\n",
      "predicted and actual deaths in total: \n",
      "prediction    170\n",
      "result        342\n",
      "dtype: int64\n",
      "Correct predictions: 701 total, 78.76404494382022%\n",
      "False predictions: 190 total, 21.348314606741575%\n",
      "Erronously predicted people alive 9\n",
      "Erronously predicted people dead 181\n"
     ]
    }
   ],
   "source": [
    "# Now we want to find out, how good the prediction is.\n",
    "prediction_array=dtree2.predict(titanic[['encoded_sex','encoded_age','encoded_class']])\n",
    "prediction_dataframe=pd.DataFrame(data=prediction_array, columns=[\"prediction\"])\n",
    "prediction_dataframe['result']=titanic['survived']\n",
    "\n",
    "print(prediction_dataframe)\n",
    "print(\"predicted and actual deaths in total: \")\n",
    "print(prediction_dataframe.apply(np.sum, axis=0))\n",
    "\n",
    "false_deaths=0\n",
    "false_alives=0\n",
    "false_predictions=0\n",
    "correct_predictions=0\n",
    "      \n",
    "for ind in prediction_dataframe.index:\n",
    "      if (prediction_dataframe['result'][ind]==prediction_dataframe['prediction'][ind]):\n",
    "          correct_predictions+=1\n",
    "      else:\n",
    "          false_predictions+=1\n",
    "      if(prediction_dataframe['result'][ind]!=prediction_dataframe['prediction'][ind] and prediction_dataframe['prediction'][ind]==0):\n",
    "          false_deaths+=1\n",
    "      if(prediction_dataframe['result'][ind]!=prediction_dataframe['prediction'][ind] and prediction_dataframe['prediction'][ind]==1):\n",
    "          false_alives+=1\n",
    "    \n",
    "print(\"Correct predictions: \"+str(correct_predictions)+\" total, \"+str(correct_predictions*100/890)+\"%\")\n",
    "print(\"False predictions: \"+str(false_predictions)+\" total, \"+str(false_predictions*100/890)+\"%\")\n",
    "print(\"Erronously predicted people alive \"+str(false_alives))\n",
    "print(\"Erronously predicted people dead \"+str(false_deaths))"
   ]
  },
  {
   "cell_type": "code",
   "execution_count": 14,
   "metadata": {},
   "outputs": [
    {
     "data": {
      "text/html": [
       "\n",
       "        <iframe\n",
       "            width=\"700\"\n",
       "            height=\"400\"\n",
       "            src=\"./titanic_shorterEntropy.pdf\"\n",
       "            frameborder=\"0\"\n",
       "            allowfullscreen\n",
       "        ></iframe>\n",
       "        "
      ],
      "text/plain": [
       "<IPython.lib.display.IFrame at 0x2399eae2e88>"
      ]
     },
     "execution_count": 14,
     "metadata": {},
     "output_type": "execute_result"
    }
   ],
   "source": [
    "# Also lets try the same stuff from before with entropy\n",
    "\n",
    "# https://scikit-learn.org/stable/modules/generated/sklearn.tree.DecisionTreeClassifier.html\n",
    "# All paramaters taken here are defaults\n",
    "dtree2 = tree.DecisionTreeClassifier(\n",
    "    criterion='entropy', # {“gini”, “entropy”}\n",
    "    splitter='best', # {“best”, “random”} \n",
    "    max_depth=None, # The maximum depth of the tree. If None, then nodes are expanded until all leaves are pure or until all leaves contain less than min_samples_split samples.\n",
    "    min_samples_split=2, # The minimum number of samples required to split an internal node \n",
    "    min_samples_leaf=1, # The minimum number of samples required to be at a leaf node. \n",
    "    min_weight_fraction_leaf=0.005, # The minimum weighted fraction of the sum total of weights (of all the input samples) required to be at a leaf node.\n",
    "    max_features=None, # The number of features to consider when looking for the best split\n",
    "    max_leaf_nodes=None, #Grow a tree with max_leaf_nodes in best-first fashion. \n",
    "    min_impurity_decrease=0.01 # A node will be split if this split induces a decrease of the impurity greater than or equal to this value. \n",
    "    )\n",
    "\n",
    "titanic['ranged_age']=pd.cut(titanic['age'],[-2,0,17,100])\n",
    "titanic['ranged_age']=titanic['ranged_age'].astype('str')\n",
    "age_encoder = preprocessing.LabelEncoder()\n",
    "age_encoder.fit(titanic['ranged_age'])\n",
    "titanic['encoded_age']=age_encoder.transform(titanic['ranged_age'])\n",
    "titanic['encoded_age']=titanic['encoded_age'].replace(np.nan,-1)\n",
    "\n",
    "dtree2 = dtree2.fit(titanic[['encoded_sex','encoded_age','encoded_class']],titanic[['survived']])\n",
    "\n",
    "dot_data = tree.export_graphviz(dtree2, \n",
    "                                out_file=None,\n",
    "                                feature_names=['sex','age','class'],  \n",
    "                                class_names=['dead','alive'],  \n",
    "                                filled=True, rounded=True,  \n",
    "                                special_characters=True)   \n",
    "graph = graphviz.Source(dot_data) \n",
    "graph.render(\"titanic_shorterEntropy\") \n",
    "\n",
    "# unfortunately not supported in Azure today. \n",
    "# browse to .pdf file and open manually.\n",
    "IFrame('./titanic_shorterEntropy.pdf', width=700, height=400)"
   ]
  },
  {
   "cell_type": "code",
   "execution_count": 15,
   "metadata": {},
   "outputs": [
    {
     "name": "stdout",
     "output_type": "stream",
     "text": [
      "     prediction  result\n",
      "0             0       0\n",
      "1             1       1\n",
      "2             0       1\n",
      "3             1       1\n",
      "4             0       0\n",
      "..          ...     ...\n",
      "886           0       0\n",
      "887           1       1\n",
      "888           0       0\n",
      "889           0       1\n",
      "890           0       0\n",
      "\n",
      "[891 rows x 2 columns]\n",
      "predicted and actual deaths in total: \n",
      "prediction    181\n",
      "result        342\n",
      "dtype: int64\n",
      "Correct predictions: 708 total, 79.5505617977528%\n",
      "False predictions: 183 total, 20.56179775280899%\n",
      "Erronously predicted people alive 11\n",
      "Erronously predicted people dead 172\n"
     ]
    }
   ],
   "source": [
    "# Now we want to find out, how good the prediction is.\n",
    "prediction_array=dtree2.predict(titanic[['encoded_sex','encoded_age','encoded_class']])\n",
    "prediction_dataframe=pd.DataFrame(data=prediction_array, columns=[\"prediction\"])\n",
    "prediction_dataframe['result']=titanic['survived']\n",
    "\n",
    "print(prediction_dataframe)\n",
    "print(\"predicted and actual deaths in total: \")\n",
    "print(prediction_dataframe.apply(np.sum, axis=0))\n",
    "\n",
    "false_deaths=0\n",
    "false_alives=0\n",
    "false_predictions=0\n",
    "correct_predictions=0\n",
    "      \n",
    "for ind in prediction_dataframe.index:\n",
    "      if (prediction_dataframe['result'][ind]==prediction_dataframe['prediction'][ind]):\n",
    "          correct_predictions+=1\n",
    "      else:\n",
    "          false_predictions+=1\n",
    "      if(prediction_dataframe['result'][ind]!=prediction_dataframe['prediction'][ind] and prediction_dataframe['prediction'][ind]==0):\n",
    "          false_deaths+=1\n",
    "      if(prediction_dataframe['result'][ind]!=prediction_dataframe['prediction'][ind] and prediction_dataframe['prediction'][ind]==1):\n",
    "          false_alives+=1\n",
    "    \n",
    "print(\"Correct predictions: \"+str(correct_predictions)+\" total, \"+str(correct_predictions*100/890)+\"%\")\n",
    "print(\"False predictions: \"+str(false_predictions)+\" total, \"+str(false_predictions*100/890)+\"%\")\n",
    "print(\"Erronously predicted people alive \"+str(false_alives))\n",
    "print(\"Erronously predicted people dead \"+str(false_deaths))"
   ]
  }
 ],
 "metadata": {
  "kernelspec": {
   "display_name": "Python 3",
   "language": "python",
   "name": "python3"
  },
  "language_info": {
   "codemirror_mode": {
    "name": "ipython",
    "version": 3
   },
   "file_extension": ".py",
   "mimetype": "text/x-python",
   "name": "python",
   "nbconvert_exporter": "python",
   "pygments_lexer": "ipython3",
   "version": "3.7.4"
  }
 },
 "nbformat": 4,
 "nbformat_minor": 2
}
