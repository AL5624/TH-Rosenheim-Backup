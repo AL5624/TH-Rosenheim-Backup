{
  "cells": [
    {
      "metadata": {},
      "cell_type": "markdown",
      "source": "# Simple Vanilla RNN\n\nDieses einfache Beispiel soll zeigen, wie der Hidden-State von h(t-1) auf h(t) weitergegeben wird. Die Weight-Matrizen werden im Konstruktor bereits initialisiert (kein Training!).\n\nMit der step()-Methode wird dann der nächste Schritt abgerufen."
    },
    {
      "metadata": {
        "trusted": true
      },
      "cell_type": "code",
      "source": "import numpy as np\n\nclass RNN:\n    \n    # init the RNN\n    def __init__(self, start):\n        self.h = start\n        #parameters\n        self.W_hh = np.matrix([[1,0,0],\n                               [0,1,0],\n                               [0,0,1],\n                               [0,0,1],\n                               [1,0,0],\n                               [0,1,0]])\n        self.W_xh = np.matrix([[0,1],\n                               [0,1],\n                               [1,0],\n                               [0,1],\n                               [1,0],\n                               [1,0]])\n        self.W_hy = np.matrix([[1,0,0,1,0,0],\n                               [0,1,0,0,1,0],\n                               [0,0,1,0,0,1]])\n        \n    # Step through the RNN by time\n    def step(self, x):\n        # update the hidden state\n        self.h = (np.dot(self.W_hh, self.h) + np.dot(self.W_xh, x))\n        # normalize to max and take the abs\n        self.h = np.floor(self.h/np.max(self.h))\n        # compute the hidden vector\n        self.h = np.array(self.h)[0]\n        # compute the output\n        y = np.dot(self.W_hy, self.h)\n        self.h= np.array(y)[0]\n        return y\n\n        ",
      "execution_count": 1,
      "outputs": []
    },
    {
      "metadata": {
        "trusted": true
      },
      "cell_type": "markdown",
      "source": "## Testen\n\nZum Testen wird das RNN mit h0=(0,0,1) initiaisert. Danach wird das RNN nur mit X gefüttert und der Hidden-State wird weitergereicht."
    },
    {
      "metadata": {
        "trusted": true
      },
      "cell_type": "code",
      "source": "# lets assume last training was cycling = [0,0,1]\nrnn = RNN([0,0,1])\n\n# today it rains = [0,1]\nyt = rnn.step([0,1])\nprint(\"Monday training with rain: \\t%s\" % yt)\n\n# next day sun shines = [1,0]\nyt = rnn.step([1,0])\nprint(\"Tuesday training with sun: \\t%s\" % yt)\n\n# next day sun raines = [0,1]\nyt = rnn.step([0,1])\nprint(\"Wednesday training with rain: \\t%s\" % yt)\n\n# next day sun shines = [1,0]\nyt = rnn.step([1,0])\nprint(\"Thursday training with sun: \\t%s\" % yt)\n",
      "execution_count": 2,
      "outputs": [
        {
          "output_type": "stream",
          "text": "Monday training with rain: \t[[1. 0. 0.]]\nTuesday training with sun: \t[[0. 1. 0.]]\nWednesday training with rain: \t[[0. 1. 0.]]\nThursday training with sun: \t[[0. 0. 1.]]\n",
          "name": "stdout"
        }
      ]
    },
    {
      "metadata": {
        "trusted": true
      },
      "cell_type": "code",
      "source": "",
      "execution_count": null,
      "outputs": []
    }
  ],
  "metadata": {
    "kernelspec": {
      "name": "python36",
      "display_name": "Python 3.6",
      "language": "python"
    },
    "language_info": {
      "mimetype": "text/x-python",
      "nbconvert_exporter": "python",
      "name": "python",
      "pygments_lexer": "ipython3",
      "version": "3.6.6",
      "file_extension": ".py",
      "codemirror_mode": {
        "version": 3,
        "name": "ipython"
      }
    }
  },
  "nbformat": 4,
  "nbformat_minor": 2
}